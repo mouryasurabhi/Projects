{
  "nbformat": 4,
  "nbformat_minor": 0,
  "metadata": {
    "colab": {
      "name": "Bayes_Leuk_Jaud_Surabhi_Caillat.ipynb",
      "provenance": [],
      "collapsed_sections": []
    },
    "kernelspec": {
      "name": "python3",
      "display_name": "Python 3"
    }
  },
  "cells": [
    {
      "cell_type": "markdown",
      "metadata": {
        "id": "HMAG8x3b93Oq",
        "colab_type": "text"
      },
      "source": [
        "# BAYES Project - Leuk: Cox regression\n",
        "*JAUD Stephen* \\\n",
        "*SURABHI Saimourya* \\\n",
        "*Caillat Maéva*\n"
      ]
    },
    {
      "cell_type": "markdown",
      "metadata": {
        "id": "3y_t2R51-MJT",
        "colab_type": "text"
      },
      "source": [
        "## Data and context"
      ]
    },
    {
      "cell_type": "markdown",
      "metadata": {
        "id": "LRNu-nf1-g7q",
        "colab_type": "text"
      },
      "source": [
        "Several authors have discussed Bayesian inference for censored survival data where the integrated baseline hazard function is to be estimated non-parametrically Kalbfleisch (1978), Kalbfleisch and Prentice (1980), Clayton (1991), Clayton (1994). Clayton (1994) formulates the Cox model using the counting process notation introduced by Andersen and Gill (1982) and discusses estimation of the baseline hazard and regression parameters using MCMC methods. We show below how to implement this formulation of the Cox model.\n",
        "\n",
        "For subjects $i = 1...n$, we observe processes $N_i(t)$ which count the number of failures which have occurred up to time $t$. The corresponding intensity process $I_i(t)$ is given by:\n",
        "\\begin{equation}\n",
        "    I_i(t) dt = \\mathbb{E} \\left( dN_i(t) \\, | \\,\\, F_{t-} \\right)\n",
        "\\end{equation}\n",
        "\n",
        "where $dN_i(t)$ is the increment of $N_i$ over the small time interval $[t, t+dt[$, and $F_{t-}$ represents the available data just before time $t$. If subject $i$ is observed to fail during this time interval, $dN_i(t)$ will take the value 1; otherwise $dN_i(t) = 0$. Hence $\\mathbb{E} \\left( dN_i(t) \\, | \\,\\, F_{t-} \\right)$ corresponds to the probability of subject $i$ failing in the interval $[t, t+dt[$. As $dt \\to 0$ (assuming time to be continuous) then this probability becomes the instantaneous hazard at time $t$ for subject $i$ . This is assumed to have the proportional hazards form:  \n",
        "\\begin{equation}\n",
        "    I_i(t) = Y_i(t) \\, \\lambda_0(t) \\, e^{\\beta z_i}\n",
        "\\end{equation}\n",
        "\n",
        "where $Y_i(t)$ is an observed process taking the value 1 or 0 according to whether or not subject $i$ is observed at time $t$ and $\\lambda_0(t)e^{\\beta z_i}$ is the familiar Cox regression model. Thus we have observed data $D = \\left(N_i(t), \\, Y_i(t), \\, z_i\\right)_{1...n}$ and unknown parameters $\\beta$ and $\\Lambda_0(t) = \\int_0^t \\lambda_0(u) du$, the latter to be estimated non-parametrically.\n",
        "\n",
        "The joint posterior distribution for the above model is defined by\n",
        "\\begin{equation}\n",
        "    \\mathbb{P}\\left( \\beta, \\Lambda_0(.) \\, | \\,\\, D \\right) \\propto\n",
        "    \\mathbb{P}\\left( D \\, | \\,\\, \\beta, \\Lambda_0(.) \\right) \\mathbb{P}(\\beta) \\mathbb{P}\\left(\\Lambda_0(.)\\right)\n",
        "\\end{equation}\n",
        "\n",
        "Under non-informative censoring:\n",
        "\\begin{equation}\n",
        "    \\mathbb{P}\\left( D \\, | \\,\\, \\beta, \\Lambda_0(.) \\right)\n",
        "    \\propto\n",
        "    \\prod_{i=1}^n \\left[\\prod_{t \\geq 0} I_i(t)^{dN_i(t)}\\right] e^{-I_i(t) dt}\n",
        "\\end{equation}\n",
        "\n",
        "This is essentially as if the counting process increments $dN_i(t)$ in the time interval $[t, t+dt[$ are independent Poisson random variables with means $I_i(t)dt$:\n",
        "\\begin{equation}\n",
        "    dN_i(t) \\sim \\mathcal{P}(I_i(t) dt)\n",
        "\\end{equation}\n",
        "\n",
        "We may write:\n",
        "\\begin{equation}\n",
        "    I_i(t) dt = Y_i(t) \\, e^{\\beta z_i} \\, d\\Lambda_0(t)\n",
        "\\end{equation}\n",
        "\n",
        "where $d\\Lambda_0(t) = \\lambda_0(t)dt$ is the increment or jump in the integrated baseline hazard function occurring during the time interval $[t, t+dt[$. Since the conjugate prior for the Poisson mean is the gamma distribution, it would be convenient if $\\Lambda_0(.)$ were a process in which the increments $d\\Lambda_0(t)$ are distributed according to gamma distributions. We assume the conjugate independent increments prior suggested by Kalbfleisch (1978), namely  \n",
        "\\begin{equation}\n",
        "    d\\Lambda_0(t) \\sim \\Gamma\\left(c \\ d\\Lambda^*_0(t), c\\right)\n",
        "\\end{equation}\n",
        "\n",
        "Here, $d\\Lambda^*_0(t)$ can be thought of as a prior guess at the unknown hazard function, with $c$ representing the degree of confidence in this guess. Small values of $c$ correspond to weak prior beliefs. In the example below, we set $d\\Lambda^*_0(t) = r dt$ where $r$ is a guess at the failure rate per unit time, and $dt$ is the size of the time interval.\n",
        "\n",
        "The above formulation is appropriate when genuine prior information exists concerning the underlying hazard function. Alternatively, if we wish to reproduce a Cox analysis but with, say, additional hierarchical structure, we may use the multinomial-Poisson trick described in the BUGS manual. This is equivalent to assuming independent increments in the cumulative 'non-informative' priors. This formulation is also shown below.\n",
        "\n",
        "The fixed effect regression coefficients $\\beta$ are assigned a vague prior\n",
        "\\begin{equation}\n",
        "    \\beta \\sim \\mathcal{N}(0, 10^6)\n",
        "\\end{equation}\n",
        "\n",
        "For further description about the project In OpenBUGS : http://www.openbugs.net/Examples/Leuk.html"
      ]
    },
    {
      "cell_type": "code",
      "metadata": {
        "id": "iezkHolE937I",
        "colab_type": "code",
        "colab": {}
      },
      "source": [
        "%matplotlib inline\n",
        "import numpy as  np  \n",
        "import matplotlib.pyplot as plt\n",
        "from scipy.stats import gamma, norm, poisson, lognorm\n",
        "import math"
      ],
      "execution_count": 0,
      "outputs": []
    },
    {
      "cell_type": "code",
      "metadata": {
        "id": "d7TR21fXeKXr",
        "colab_type": "code",
        "colab": {}
      },
      "source": [
        "# Data\n",
        "\n",
        "N = 42\n",
        "\n",
        "# number of observed times\n",
        "T = 17\n",
        "eps = 1e-10\n",
        "\n",
        "# variance for normal (prior) distribution of beta\n",
        "var_b = 1e6\n",
        "\n",
        "# degree of confidence in a prior guess\n",
        "c = 0.001\n",
        "\n",
        "# guess at the failure rate per unit time\n",
        "r = 0.1\n",
        "\n",
        "obst = np.array([1, 1, 2, 2, 3, 4, 4, 5, 5, 8, 8, 8, 8, 11, 11, 12, 12, 15, 17, 22, 23, 6, 6, 6, 6, 7, 9, 10, 10, 11, 13, 16, 17, 19, 20, 22, 23, 25, 32, 32, 34, 35])\n",
        "fail = np.array([1, 1, 1, 1, 1, 1, 1, 1, 1, 1, 1, 1, 1, 1, 1, 1, 1, 1, 1, 1, 1, 1, 1, 1, 0, 1, 0, 1, 0, 0, 1, 1, 0, 0, 0, 1, 1, 0, 0, 0, 0, 0])\n",
        "\n",
        "#Z = -0.5 if treated patient and 0.5 if placebo patient\n",
        "Z = np.array([0.5, 0.5, 0.5, 0.5, 0.5, 0.5, 0.5, 0.5, 0.5, 0.5, 0.5, 0.5, 0.5, 0.5, 0.5, 0.5, 0.5, 0.5, 0.5, 0.5, 0.5, -0.5, -0.5, -0.5, -0.5, -0.5, -0.5, -0.5, -0.5, -0.5, -0.5, -0.5, -0.5, -0.5, -0.5, -0.5, -0.5, -0.5, -0.5, -0.5, -0.5, -0.5])\n",
        "\n",
        "# times for which subjects are observed\n",
        "t = np.array([1, 2, 3, 4, 5, 6, 7, 8, 10, 11, 12, 13, 15, 16, 17, 22, 23, 35])\n"
      ],
      "execution_count": 0,
      "outputs": []
    },
    {
      "cell_type": "code",
      "metadata": {
        "id": "vt-nIZ0qeM13",
        "colab_type": "code",
        "colab": {}
      },
      "source": [
        "# Rewrite the data\n",
        "\n",
        "# Yi = 1 if subject i is observed at time t and 0 otherwise\n",
        "Y = np.array([[int((obst[i] - t[j] + eps) >= 0) for j in range(T)] for i in range(N)])\n",
        "\n",
        "# increment of Ni over [t, t+dt)\n",
        "dN = np.array([[(Y[i,j] * int(t[j+1] - obst[i] - eps >= 0) * fail[i]) for j in range(T)] for i in range(N)])\n",
        "\n",
        "# size of the time interval\n",
        "dt = np.array([t[j+1] - t[j] for j in range(T)])"
      ],
      "execution_count": 0,
      "outputs": []
    },
    {
      "cell_type": "code",
      "metadata": {
        "id": "JL7UZS_yeWku",
        "colab_type": "code",
        "outputId": "cb4a1f60-2361-40c4-ee01-682627a6c365",
        "colab": {
          "base_uri": "https://localhost:8080/",
          "height": 34
        }
      },
      "source": [
        "# Initialisation\n",
        "\n",
        "# initial value for the Markov chain: [beta, dLambda0(t1), ..., dLambda0(tp)]\n",
        "theta_0 = np.ones(T+1)\n",
        "\n",
        "# beta\n",
        "theta_0[0] = 0 \n",
        "print(theta_0)"
      ],
      "execution_count": 4,
      "outputs": [
        {
          "output_type": "stream",
          "text": [
            "[0. 1. 1. 1. 1. 1. 1. 1. 1. 1. 1. 1. 1. 1. 1. 1. 1. 1.]\n"
          ],
          "name": "stdout"
        }
      ]
    },
    {
      "cell_type": "markdown",
      "metadata": {
        "id": "Hc0MuEgv-95o",
        "colab_type": "text"
      },
      "source": [
        "## Posterior distribution\n"
      ]
    },
    {
      "cell_type": "markdown",
      "metadata": {
        "id": "Ny5TwR0AAqIW",
        "colab_type": "text"
      },
      "source": [
        "$$\\theta = (\\beta, d\\Lambda_0(t_1), d\\Lambda_0(t_2), ..., d\\Lambda_0(t_p))$$ \n",
        "$$D = \\left((N_{i1}, ..., N_{ip}), \\, (Y_{i1}, ..., Y_{ip}), \\, z_i\\right)_{1..n}$$\n",
        "$\\pi(\\beta) = \\frac{1}{\\sqrt{2 \\pi \\sigma^2}} e^{-\\frac{\\beta}{2 \\sigma^2}}$ with $\\sigma^2 = 10^6$ et\n",
        "$\\pi(d\\Lambda_0) = \\prod_{i = 1}^p f_{\\Gamma( c \\, r \\, dt_j, c)}\\left(d\\Lambda_0(t_j)\\right)$\n",
        "$$\\pi(D | \\theta) = \\prod_{i=1}^n e^{-\\int I_i(t)dt} \\prod_{j=1}^p \\left[Y_{ij} \\lambda_0(t_j)e^{\\beta z_i}\\right]^{dN_{ij}}$$\n",
        "\n",
        "\\begin{eqnarray*}\n",
        "  \\pi(\\theta | D) & \\propto & \\pi(D | \\theta) \\ \\pi(\\theta) \\\\\n",
        "   & \\propto & \\pi(D | \\theta) \\ \\pi(\\beta) \\ \\pi(d\\Lambda_0) \\\\\n",
        "   & \\propto & \\prod_{i=1}^n \\left( e^{-e^{\\beta z_i} \\sum_{j=1}^p d\\Lambda_0(t_j)} \\prod_{j=1}^p \\left[Y_{ij} d\\Lambda_0(t_j) e^{\\beta z_i}\\right]^{dN_{ij}} \\right) \\ f_{\\mathcal{N}(0, \\sigma^2)}(\\beta) \\ \\prod_{j = 1}^p f_{\\Gamma( c \\, r \\, dt_j, c)}\\left(d\\Lambda_0(t_j) \\right) \\\\\n",
        "   & \\propto & \\exp{\\left(-\\sum_{i=1}^n e^{\\beta z_i} \\sum_{j=1}^p d\\Lambda_0(t_j)\\right)}\n",
        "   \\prod_{i=1}^n \\left(\\prod_{j=1}^p \\left[Y_{ij} d\\Lambda_0(t_j) e^{\\beta z_i}\\right]^{dN_{ij}} \\right) \\ f_{\\mathcal{N}(0, \\sigma^2)}(\\beta) \\ \\prod_{j = 1}^p f_{\\Gamma( c \\, r \\, dt_j, c)}\\left(d\\Lambda_0(t_j) \\right)\n",
        "\\end{eqnarray*} \n",
        "\n",
        "Hence the log-density :\n",
        "\n",
        "\\begin{eqnarray*}\n",
        "\\log \\pi (\\theta | D) - C & = & -\\sum_{i=1}^n e^{\\beta z_i} \\sum_{j=1}^p d\\Lambda_0(t_j) + \\sum_{i=1}^n \\sum_{j=1}^p {dN_{ij}} \\log \\left[Y_{ij} d\\Lambda_0(t_j) e^{\\beta z_i}\\right] + \\log f_{\\mathcal{N}(0, \\sigma^2)}(\\beta) \\\\\n",
        "& & + \\sum_{j=1}^p \\log f_{\\Gamma( c \\, r \\, dt_j, c)}(d\\Lambda_0(t_j))\n",
        "\\end{eqnarray*}"
      ]
    },
    {
      "cell_type": "code",
      "metadata": {
        "id": "Kb2xdMTXeafV",
        "colab_type": "code",
        "colab": {}
      },
      "source": [
        "# Log target distribution (posterior distribution)\n",
        "\n",
        "def logg(theta):\n",
        "    #beta\n",
        "    b = theta[0]\n",
        "    # dLambda0(tj), j in 1...p\n",
        "    dL0 = theta[1:]\n",
        "    if (np.min(dL0) <= 0):\n",
        "        return -math.inf\n",
        "    \n",
        "    # Contribution of beta (normal prior)\n",
        "    S = norm.logpdf(b, 0, np.sqrt(var_b))\n",
        "\n",
        "    # Contribution of dL0 (gamma prior)\n",
        "    S += np.sum(gamma.logpdf(dL0, c * r * dt, 0, 1/c))\n",
        "\n",
        "    # Contribution of the data\n",
        "    S -= np.sum(np.exp(b * Z)) * np.sum(dL0)\n",
        "    for i in range(N):\n",
        "      for j in range(T):\n",
        "        if Y[i,j] != 0 and dN[i,j]!=0:\n",
        "          S += (np.log(dL0[j]) + b*Z[i])* dN[i,j]\n",
        "    return(S)"
      ],
      "execution_count": 0,
      "outputs": []
    },
    {
      "cell_type": "markdown",
      "metadata": {
        "id": "XTdM_kItAKAt",
        "colab_type": "text"
      },
      "source": [
        "## Metropolis-Hasting within systematic Gibbs sampler"
      ]
    },
    {
      "cell_type": "code",
      "metadata": {
        "id": "qImdVs_gfrne",
        "colab_type": "code",
        "outputId": "c77e92cf-cf14-4b22-b07a-954a3e7ce377",
        "colab": {
          "base_uri": "https://localhost:8080/",
          "height": 1000
        }
      },
      "source": [
        "# Metropolis-Hasting within systematic Gibbs sampler\n",
        "# size of the Markov chain\n",
        "n = 10000\n",
        "# burning period\n",
        "burn_period = 1000\n",
        "# initializing Markov chain\n",
        "X = np.zeros((n, T+1))\n",
        "X[0] = theta_0\n",
        "\n",
        "# proposals variances\n",
        "var_beta = 0.8\n",
        "var_dL = 2\n",
        "\n",
        "# in order to calcultate acceptance rates for all the parameters\n",
        "acc = np.zeros(T+1)\n",
        "for s in range(1, n):\n",
        "\n",
        "  X[s] = X[s-1].copy()\n",
        "\n",
        "  # Systematic sample\n",
        "  for i in range(T+1):\n",
        "\n",
        "    # Draw a proposal\n",
        "    Xstar = X[s].copy()\n",
        "    # random normal walk for beta\n",
        "    if i == 0:\n",
        "      Xstar[i] += np.random.normal(0, var_beta)\n",
        "    # random lognormal walk for dLambda0(tj)\n",
        "    else:\n",
        "      Xstar[i] *= np.exp(np.random.normal(0, var_dL))\n",
        "    \n",
        "    # MH updating scheme\n",
        "    bottom = logg(X[s])\n",
        "    top = logg(Xstar)\n",
        "\n",
        "    if i == 0:\n",
        "      alpha = np.exp(top - bottom)\n",
        "    else:\n",
        "      alpha = np.exp(top - bottom) * Xstar[i] / X[s][i]\n",
        "    \n",
        "    if np.random.uniform(0, 1) <= alpha:\n",
        "        X[s][i] = Xstar[i]\n",
        "        acc[i] += 1\n",
        "\n",
        "  # Show the computation\n",
        "  if s%(n//100) == 0:\n",
        "    print(s/n, X[s][0])\n",
        "\n",
        "acc /= n"
      ],
      "execution_count": 6,
      "outputs": [
        {
          "output_type": "stream",
          "text": [
            "0.01 0.8395032380321527\n",
            "0.02 0.7301772464222189\n",
            "0.03 1.4099631420451328\n",
            "0.04 0.6782735319038917\n",
            "0.05 0.3196233095658361\n",
            "0.06 0.4957954013213797\n",
            "0.07 0.7629523673068196\n",
            "0.08 0.5105228141124004\n",
            "0.09 1.0950161521368158\n",
            "0.1 0.311315971987016\n",
            "0.11 0.8062819706410769\n",
            "0.12 1.081330866078892\n",
            "0.13 0.7087736852506011\n",
            "0.14 0.9196968494089457\n",
            "0.15 0.5187562030166692\n",
            "0.16 0.8250238588929912\n",
            "0.17 0.4908663038598596\n",
            "0.18 0.8059754787615635\n",
            "0.19 0.8755798068429347\n",
            "0.2 0.5872539240483574\n",
            "0.21 1.2568036267204468\n",
            "0.22 0.7191257394743165\n",
            "0.23 0.5699609529182256\n",
            "0.24 1.3499314388002857\n",
            "0.25 0.9754324414498518\n",
            "0.26 1.5109505162036847\n",
            "0.27 0.4472211518186211\n",
            "0.28 0.7558238668918557\n",
            "0.29 0.5711566611787005\n",
            "0.3 1.225695849522555\n",
            "0.31 0.8498596963929785\n",
            "0.32 0.8685963831956802\n",
            "0.33 1.291392991960509\n",
            "0.34 0.5184383783270792\n",
            "0.35 0.9303964684069659\n",
            "0.36 0.5647242286856449\n",
            "0.37 1.0972725553069118\n",
            "0.38 1.3576749256638536\n",
            "0.39 1.092534516904067\n",
            "0.4 1.128492908695143\n",
            "0.41 1.1517490341163488\n",
            "0.42 1.1027587892165718\n",
            "0.43 1.5754349734019564\n",
            "0.44 0.757337314392494\n",
            "0.45 0.6748749927790837\n",
            "0.46 0.4824005885490173\n",
            "0.47 0.5626890946348034\n",
            "0.48 1.3624493092863845\n",
            "0.49 1.7014037460856133\n",
            "0.5 1.450856761439086\n",
            "0.51 0.8039075596197289\n",
            "0.52 0.7276844005149108\n",
            "0.53 1.222262078566133\n",
            "0.54 1.3920201112789603\n",
            "0.55 0.46584205168513243\n",
            "0.56 1.1819594980038293\n",
            "0.57 0.6606467076252363\n",
            "0.58 0.6965224268052073\n",
            "0.59 0.8383317050297341\n",
            "0.6 0.43119642613909503\n",
            "0.61 1.2936385363275114\n",
            "0.62 1.0239811209886058\n",
            "0.63 0.9677854464537274\n",
            "0.64 0.3150801918981223\n",
            "0.65 1.1309180821550202\n",
            "0.66 0.3673238695958283\n",
            "0.67 1.1725388158342431\n",
            "0.68 0.1354150971152822\n",
            "0.69 0.9768737232844561\n",
            "0.7 1.1583449855938817\n",
            "0.71 0.5227005663861654\n",
            "0.72 0.5926461620955887\n",
            "0.73 0.45450346424804133\n",
            "0.74 0.7842444200421576\n",
            "0.75 1.3651221158761762\n",
            "0.76 1.459532342577723\n",
            "0.77 0.4570605965475608\n",
            "0.78 0.9752372615699206\n",
            "0.79 0.20706796594005156\n",
            "0.8 1.1588690936465669\n",
            "0.81 0.9360446287285029\n",
            "0.82 1.021351878411387\n",
            "0.83 0.9090427759528459\n",
            "0.84 1.883753448637765\n",
            "0.85 0.3574804677395378\n",
            "0.86 1.2500899103143426\n",
            "0.87 0.5158841267763438\n",
            "0.88 0.7195284343511812\n",
            "0.89 0.6719729026358736\n",
            "0.9 0.8565330734868342\n",
            "0.91 1.1623576369547886\n",
            "0.92 0.07700158975026472\n",
            "0.93 0.8199216738492874\n",
            "0.94 1.171880255751494\n",
            "0.95 0.07863244763837585\n",
            "0.96 0.8463639577933186\n",
            "0.97 0.17767693581666255\n",
            "0.98 -0.022273885020831496\n",
            "0.99 0.5676689344707109\n"
          ],
          "name": "stdout"
        }
      ]
    },
    {
      "cell_type": "code",
      "metadata": {
        "id": "wRwNTBWWxn2l",
        "colab_type": "code",
        "outputId": "f2044e13-d32c-4bf4-8431-25562b1033a0",
        "colab": {
          "base_uri": "https://localhost:8080/",
          "height": 606
        }
      },
      "source": [
        "beta = X[burn_period:, 0]\n",
        "dLambda0_t1 = X[burn_period:, 1]\n",
        "\n",
        "x = np.arange(burn_period, n)\n",
        "figure = plt.figure(figsize = (15, 10))\n",
        "\n",
        "plt.subplot(2,2,1)\n",
        "plt.plot(x, beta)\n",
        "plt.xlabel(\"Number of iterations\")\n",
        "plt.ylabel(\"Beta\")\n",
        "\n",
        "plt.subplot(2,2,2)\n",
        "plt.hist(beta, bins = 25, density=True)\n",
        "plt.xlabel(\"Beta\")\n",
        "plt.ylabel(\"Densité\")\n",
        "\n",
        "plt.subplot(2,2,3)\n",
        "plt.plot(x, dLambda0_t1)\n",
        "plt.xlabel(\"Number of iterations\")\n",
        "plt.ylabel(\"dLambda0_t1\")\n",
        "\n",
        "plt.subplot(2,2,4)\n",
        "plt.hist(dLambda0_t1, bins = 25, density=True)\n",
        "plt.xlabel(\"dLambda0_t1\")\n",
        "plt.ylabel(\"Densité\")\n",
        "\n",
        "plt.show()"
      ],
      "execution_count": 7,
      "outputs": [
        {
          "output_type": "display_data",
          "data": {
            "image/png": "[encoded data removed]",
            "text/plain": [
              "<Figure size 1080x720 with 4 Axes>"
            ]
          },
          "metadata": {
            "tags": []
          }
        }
      ]
    },
    {
      "cell_type": "markdown",
      "metadata": {
        "id": "W7_-GuU1znh7",
        "colab_type": "text"
      },
      "source": [
        "Thus, the Markov chain has good mixing properties."
      ]
    },
    {
      "cell_type": "code",
      "metadata": {
        "id": "BsSHokKcmRUN",
        "colab_type": "code",
        "outputId": "d2cd8bec-f670-47b2-9cee-bd440488fd9e",
        "colab": {
          "base_uri": "https://localhost:8080/",
          "height": 319
        }
      },
      "source": [
        "# Show the results\n",
        "\n",
        "names = np.array([\"beta\"] + ['dL0'+str(j) for j in range(1, T+1)]).reshape(-1, 1)\n",
        "mean = np.mean(X[burn_period:,], axis=0).reshape(-1, 1)\n",
        "sd = np.sqrt(np.var(X[burn_period:,], axis=0)).reshape(-1, 1)\n",
        "acc_perc = (np.floor(acc*100)).reshape((-1, 1))\n",
        "\n",
        "print(np.concatenate((names, acc_perc, mean, sd), axis=1))"
      ],
      "execution_count": 8,
      "outputs": [
        {
          "output_type": "stream",
          "text": [
            "[['beta' '46.0' '0.890138584670845' '0.4049183358364596']\n",
            " ['dL01' '40.0' '0.041409555534165615' '0.02936040272050297']\n",
            " ['dL02' '40.0' '0.042644247329894386' '0.02948622305906688']\n",
            " ['dL03' '54.0' '0.020871033404904413' '0.02150807137519712']\n",
            " ['dL04' '41.0' '0.0424222758388448' '0.0305977112453745']\n",
            " ['dL05' '41.0' '0.04287277424879194' '0.0305940409624158']\n",
            " ['dL06' '34.0' '0.06352756415782788' '0.03717302030445398']\n",
            " ['dL07' '54.0' '0.02119215449373195' '0.02108822267193142']\n",
            " ['dL08' '30.0' '0.08777531636350239' '0.04369305352707965']\n",
            " ['dL09' '53.0' '0.021336464326779787' '0.021291337576598766']\n",
            " ['dL010' '40.0' '0.04230941878186584' '0.02997363447529206']\n",
            " ['dL011' '41.0' '0.042941744241038554' '0.030013280718660537']\n",
            " ['dL012' '53.0' '0.02183310515448528' '0.021877327482945394']\n",
            " ['dL013' '53.0' '0.02158003824474977' '0.02144239598489354']\n",
            " ['dL014' '53.0' '0.021800922304131765' '0.021754316785637544']\n",
            " ['dL015' '52.0' '0.021249697035775884' '0.020826457738172814']\n",
            " ['dL016' '40.0' '0.04346686842275751' '0.031154816871734825']\n",
            " ['dL017' '41.0' '0.04284457886998686' '0.029624880699878627']]\n"
          ],
          "name": "stdout"
        }
      ]
    },
    {
      "cell_type": "markdown",
      "metadata": {
        "id": "039YGrANzzy3",
        "colab_type": "text"
      },
      "source": [
        "We don't get the same results as OpenBUGS, since $\\beta = 0.87$ for us versus $1.54$ for OpenBUGS but we get the same standard deviation (0.4).\n",
        "Acceptance rates are too big for a high dimensional problem (here dimension = 18 > 2), since we get around 40-50% but we should get around 25%."
      ]
    },
    {
      "cell_type": "markdown",
      "metadata": {
        "id": "bvvra-IUAWuv",
        "colab_type": "text"
      },
      "source": [
        "## Survival function"
      ]
    },
    {
      "cell_type": "markdown",
      "metadata": {
        "id": "sQtg3rcnAkfF",
        "colab_type": "text"
      },
      "source": [
        "Also, one can implement the survival function which is defined as:\n",
        "\n",
        "$$ S(t) = \\mathcal{P}(X>t) =  exp(-exp(\\beta z_i) \\int_{0}^{t} \\lambda_0(u) du)$$\n",
        "with $z_i = -0.5$ for a treated patient and $z_i = 0.5$ for a placebo patient. The survival function is the probability for a patient to survive beyond time t. "
      ]
    },
    {
      "cell_type": "code",
      "metadata": {
        "id": "-QoCziVKTqoC",
        "colab_type": "code",
        "colab": {}
      },
      "source": [
        "# Computation of the survival functions\n",
        "\n",
        "beta = mean[0,0]\n",
        "dL = mean[1:].flatten()\n",
        "\n",
        "Streat = np.exp(-np.exp(-beta*0.5)*np.cumsum(dL))\n",
        "Splacebo = np.exp(-np.exp(beta*0.5)*np.cumsum(dL))"
      ],
      "execution_count": 0,
      "outputs": []
    },
    {
      "cell_type": "markdown",
      "metadata": {
        "id": "HbwoCBb44sRn",
        "colab_type": "text"
      },
      "source": [
        "We get the same values for survival functions than OpenBUGS."
      ]
    },
    {
      "cell_type": "code",
      "metadata": {
        "id": "O4RT0H4k4SNO",
        "colab_type": "code",
        "colab": {
          "base_uri": "https://localhost:8080/",
          "height": 295
        },
        "outputId": "2521475a-b825-4f0d-b80e-e915234d5dff"
      },
      "source": [
        "plt.plot(t[:-1], Splacebo, label = \"Placebo\")\n",
        "plt.plot(t[:-1], Streat, label = \"Treat\")\n",
        "plt.title(\"Survival functions over time\")\n",
        "plt.legend()\n",
        "plt.xlabel(\"Time\")\n",
        "plt.ylabel(\"Survival functions\")\n",
        "plt.show()"
      ],
      "execution_count": 10,
      "outputs": [
        {
          "output_type": "display_data",
          "data": {
            "image/png": "[encoded data removed]",
            "text/plain": [
              "<Figure size 432x288 with 1 Axes>"
            ]
          },
          "metadata": {
            "tags": []
          }
        }
      ]
    },
    {
      "cell_type": "markdown",
      "metadata": {
        "id": "mkiw4qM402Ms",
        "colab_type": "text"
      },
      "source": [
        "One can notice that a patient under placebo has less chances to survive than a patient under real treatment. Moreover, chances to survive, under placebo and under treat, decrease over time."
      ]
    }
  ]
}