{
 "cells": [
  {
   "cell_type": "markdown",
   "metadata": {},
   "source": [
    "#  DATA CHALLENGE  POSOS: Saimourya Surabhi,Maeva Caillat \n",
    "\n"
   ]
  },
  {
   "cell_type": "markdown",
   "metadata": {},
   "source": [
    "#### INTRODUCTION\n",
    "\n",
    "The main intention of this data challenge is to classify the question intent. There are various classification methods that can be used like Navies Bayes, SVM etc. from supervised learing and using deep learning methods such as CNN and RNN .\n",
    "We have choosen to use SVM for the intent classifaction based on the paper[CNN for sentence classification](https://ui.adsabs.harvard.edu/abs/2014arXiv1408.5882K) where in the section model variations when comparing CNN to other models they results  show 95.6% accuracy score when intent classification is performned using SVM on the TREC dataset( TREC question dataset—task involvesclassifying a question into 6 question types whether the question is about person, location, numeric information, etc.) (Li andRoth, 2002)\n",
    "\n",
    "      \n",
    "\n"
   ]
  },
  {
   "cell_type": "markdown",
   "metadata": {},
   "source": [
    "#### SVM\n",
    "\n",
    "A Support Vector Machine (SVM) is a discriminative classifier defined by a separating hyperplane. In other words, given labeled training data, the algorithm outputs an optimal hyperplane which categorizes new examples. In two dimentional space this hyperplane is a line dividing a plane in two parts where in each class lay in either side.\n",
    "\n"
   ]
  },
  {
   "cell_type": "code",
   "execution_count": 7,
   "metadata": {},
   "outputs": [],
   "source": [
    "import numpy as np\n",
    "import pandas as pd\n",
    "import sklearn as sk\n",
    "import seaborn as sns\n",
    "import csv\n",
    "import re\n",
    "import matplotlib.pyplot as plt\n",
    "import spacy \n",
    "import nltk \n"
   ]
  },
  {
   "cell_type": "markdown",
   "metadata": {},
   "source": [
    "Importing the datasets  as they are encoded in the format UTF_8 we have decoded them and converted them into a readbles csv file"
   ]
  },
  {
   "cell_type": "code",
   "execution_count": 8,
   "metadata": {},
   "outputs": [],
   "source": [
    "path=\"C:/Users/91970/Documents/MASTERS/YEAR 2/data challenge/Data/\"\n",
    "\n",
    "\n",
    "df_1 = path+'input_train.csv'\n",
    "with open(df_1, newline='', encoding='utf-8') as f:\n",
    "    #reading the decoded file\n",
    "    reader = csv.reader(f)\n",
    "    a=[]\n",
    "    for row in reader:\n",
    "        a.append(row)\n",
    "a.pop(0)\n",
    "#converting it into a dataframe\n",
    "input_t=pd.DataFrame(a,columns=[\"ID\",\"questions\"])\n",
    "l=len(input_t)\n",
    "\n",
    "df_2=open(path + \"output_train.csv\")\n",
    "Output_t=pd.read_csv(df_2)\n",
    "\n",
    "\n",
    "df_3=path + 'input_test_b1Yip6O.csv'\n",
    "with open(df_3, newline='', encoding='utf-8') as g:\n",
    "    #reading the decoded file\n",
    "    reader = csv.reader(g)\n",
    "    b=[]\n",
    "    for row in reader:\n",
    "        b.append(row)\n",
    "b.pop(0)\n",
    "#converting it into a dataframe\n",
    "input_test=pd.DataFrame(b,columns=[\"ID\",\"questions\"])"
   ]
  },
  {
   "cell_type": "markdown",
   "metadata": {},
   "source": [
    "Geeting a look at the data that is  how the data arranged and the ferquency of intention of the questions to get an overall picture"
   ]
  },
  {
   "cell_type": "code",
   "execution_count": 9,
   "metadata": {},
   "outputs": [
    {
     "name": "stdout",
     "output_type": "stream",
     "text": [
      "  ID                                          questions\n",
      "0  0  bonjour,  je m suis trompé de forum pour ma qu...\n",
      "1  1  est ce que le motilium me soulagera contre les...\n",
      "2  2  mon médecin m'a prescrit adenyl. au 2ème cache...\n",
      "3  3  Est-ce qu'il existe une forme adaptée aux enfa...\n",
      "4  4  mon  medecin  me soigne  pour  une  rhino  pha...\n",
      "   ID  intention\n",
      "0   0         28\n",
      "1   1         31\n",
      "2   2         28\n",
      "3   3         44\n",
      "4   4         31 (8028, 2)\n"
     ]
    },
    {
     "data": {
      "image/png": "[encoded data removed]",
      "text/plain": [
       "<Figure size 1440x360 with 1 Axes>"
      ]
     },
     "metadata": {
      "needs_background": "light"
     },
     "output_type": "display_data"
    }
   ],
   "source": [
    "print(input_t.head())\n",
    "print(Output_t.head(),Output_t.shape)\n",
    "\n",
    "fig = plt.figure(figsize=(20,5))\n",
    "sns.barplot(x = Output_t[\"intention\"].unique(), y=Output_t['intention'].value_counts())\n",
    "plt.show()\n"
   ]
  },
  {
   "cell_type": "markdown",
   "metadata": {},
   "source": [
    "## Tokening and pre-processsing the text using spaCy and NLTK"
   ]
  },
  {
   "cell_type": "markdown",
   "metadata": {},
   "source": [
    "Cleaning all the charcaters other than words and numbers in the string suing re pacakge.After cleaning tokenising the string and then lemmatizing the words so that they can be anlysed as single item using spaCy.And then removing the stopwords. To convert all the words in the string into lower form other function called \"clean_text\" is written.As all of tokenised words are lists in order to make convert then into string's again a function called \"listtostring\" is written to get an easy reference with the orginal datafarme"
   ]
  },
  {
   "cell_type": "code",
   "execution_count": 10,
   "metadata": {},
   "outputs": [],
   "source": [
    "import re\n",
    "nlp = spacy.load(\"fr_core_news_md\")\n",
    "stop_words = nltk.corpus.stopwords.words('french')\n",
    "\n",
    "def clean_str(string):\n",
    "    #cleaning the characters in string \n",
    "    string=re.sub(r\"[^a-zA-Z0-9]+\", ' ', string)\n",
    "    string = re.sub(r'[0-9\\.]+', '', string)\n",
    "    #Creating our token object, which is used to create documents with linguistic annotations.\n",
    "    doc = nlp(string)\n",
    "    #Lemmatizing each token and converting each token into lowercase\n",
    "    tokens = [ doc.lemma_.lower().strip() if doc.lemma_ != \"-PRON-\" else doc.lower_ for doc in doc]\n",
    "\n",
    "    # Removing stop words\n",
    "    #tokens = [ doc for doc in tokens if doc not in stop_words]\n",
    "\n",
    "    # return preprocessed list of tokens\n",
    "    return tokens\n",
    "\n",
    "# Removing spaces and converting text into lowercase\n",
    "def clean_text(text):\n",
    "    return text.strip().lower()\n",
    "\n",
    "#  coversting list to string  \n",
    "def listToString(s):  \n",
    "     # initialize an empty string \n",
    "    str1 = \" \"    \n",
    "    return (str1.join(s))\n",
    "\n",
    "    \n",
    "\n"
   ]
  },
  {
   "cell_type": "markdown",
   "metadata": {},
   "source": [
    "Appending the cleaned data to lists X ,y and Y where X is for questions and y is for intentions and Y is test question data  for an easy acces"
   ]
  },
  {
   "cell_type": "code",
   "execution_count": 11,
   "metadata": {},
   "outputs": [
    {
     "name": "stdout",
     "output_type": "stream",
     "text": [
      "['être ce que le motilium me soulager contre le nau es', 'mon m decin m avoir prescrire adenyl au  me cachet un mal de t te terrible et au  me palpitation sueur froid chaleur intense dans le t te tremblement fourmillements dans le l vre sup rieure difficult s respirer d s l arr t de m dicament tout le sympt mes avoir disparaître cela être il d j arriv quelqu un', 'être ce que il existe un forme adapt e al enfer de an de micropakine', 'mon medecin me soigne pour un rhino pharingit et m avoir prescrire de amoxicilline comme anti biotique être ce vraiment pour ce indication', 'je venir d apprendre que je être enceint savoir vous si je pouvoir poursuivre le rubozinc', 'atrax n être il pas dangereux au long terme', 'je être sous mercilon j avoir un nau es et un saignement', 'l atenolol c être quoi', 'je prendre trinordiol et le fin de mon premi re plaquette j avoir avoir mon premi re fois ac mn copain le pilule être donc bien efficace d s le debut j avoir un douleur dans le poitrine j avoir l impression que il avoir un peu grossir ossi de plus j avoir mal o bas de ventr e devoir je minki t ou c simplemen le periode dadaptation']\n",
      "['quel topique appliquer pour dermatite atopique nourrisson', 'traitement kyste avec diane', 'je souffrir d insuffisance veineux acrocyanose j avoir trouv pas mal de truc pour l insuffisance veineux et en particulier le cassis et le vigne rouge être ce que c être recommand', 'je être enceint depuis  mois être ce que le huile essentiel être contre indiqu es', 'triaf mi', 'mon m decin m avoir propos le vaccin gardasil j aimerai savoir si le fait d avoir faire un ivg remettre en cause l utilit de ce vaccin', 'quel être le diff rent conditionnement de solian', 'avoir partir de combien de temps le pilule optilova être lui efficace', 'de nexplanon cerazette']\n",
      "[31 28 44 31 44 48 28 22 23]\n"
     ]
    }
   ],
   "source": [
    "#intialisng empty lists X and Y\n",
    "X = [] \n",
    "Y=[]\n",
    "\n",
    "for i in range(input_t.shape[0]):\n",
    "    k=clean_str(input_t.iloc[i][1])\n",
    "    X.append(clean_text(listToString(k)))\n",
    "    \n",
    "y = np.array(Output_t[\"intention\"])\n",
    "\n",
    "for i in range(input_test.shape[0]):\n",
    "    j=clean_str(input_test.iloc[i][1])\n",
    "    Y.append(clean_text(listToString(j)))\n",
    "print(X[1:10])\n",
    "print(Y[1:10])\n",
    "print(y[1:10])"
   ]
  },
  {
   "cell_type": "markdown",
   "metadata": {},
   "source": [
    "The train test split of the data to start model building. As a general convention we took 70% as training data and 30% as testing data"
   ]
  },
  {
   "cell_type": "code",
   "execution_count": 12,
   "metadata": {},
   "outputs": [],
   "source": [
    "#spliting the dataframe into 7:3 for train test using train_test_split\n",
    "\n",
    "from sklearn.model_selection import train_test_split\n",
    "X_train, X_test,Y_train,Y_test = train_test_split(X,y, test_size=0.3)"
   ]
  },
  {
   "cell_type": "markdown",
   "metadata": {},
   "source": [
    "CountVectorizer: It transforms the review to token count matrix. First, it tokenizes the text and according to number of occurrence of each token, and a sparse matrix is created. To get a much more detailed explanation on [CountVectorizer](https://scikit-learn.org/stable/modules/generated/sklearn.feature_extraction.text.CountVectorizer.html)\n",
    "\n",
    "TF-IDF or Tdiftransformer: Its value represents the importance of a word to a document in a corpus. TF-IDF value is proportional to the frequency of a word in a document. Calculation of TF-IDF value: suppose a review contain 100 words wherein the word Awesome appears 5 times. The term frequency (i.e., TF) for Awesome then (5 / 100) = 0.05. Again, suppose there are 1 million reviews in the corpus and the word Awesome appears 1000 times in whole corpus Then, the inverse document frequency (i.e., IDF) is calculated as log(1,000,000 / 1,000) = 3. Thus, the TF-IDF value is calculated as: 0.05 * 3 = 0.15.Now, the numeric vectors are given as input to the support vector machine algorithm.To get a much more detailed explanation on\n",
    "[TF-IDF](https://scikit-learn.org/stable/modules/generated/sklearn.feature_extraction.text.TfidfTransformer.html)\n",
    "\n",
    "Since the number of features are generally large in text case, the linear kernel generally performs best.\n",
    "Another challenge here is the multi class classification one. For that at the support vector machine implementation, we have used the OneVsRest classifier concept. The OneVsRest strategy involves training a single classiﬁer per class, with the samples of that class as positive samples and all other samples as negatives. This strategy requires the base classiﬁers to produce a real-valued conﬁdence score for its decision, rather than just a class label; discrete class labels alone can lead to ambiguities, where multiple classes are predicted for a single sample.\n",
    "\n",
    "To make the classifier design production ready, we created a pipeline of all these processes discussed above thus making it easier to move to other systems."
   ]
  },
  {
   "cell_type": "code",
   "execution_count": 13,
   "metadata": {},
   "outputs": [],
   "source": [
    "#pipeline of feature engineering and model \n",
    "#importingCountVectorizer, TfidfVectorizer, TfidfTransformer for feature extraction of text\n",
    "# OneVsRestClassifier and  LinearSVC for classifier \n",
    "\n",
    "from sklearn.pipeline import Pipeline\n",
    "from sklearn.feature_extraction.text import CountVectorizer, TfidfTransformer\n",
    "from sklearn.multiclass import OneVsRestClassifier\n",
    "from sklearn.preprocessing import StandardScaler\n",
    "from sklearn.svm import LinearSVC\n",
    "\n",
    "model = Pipeline([('vectorizer', CountVectorizer()),\n",
    " ('tfidf', TfidfTransformer()),\n",
    " ('clf', OneVsRestClassifier(LinearSVC(multi_class=\"crammer_singer\",class_weight=\"balanced\",max_iter=1000)))])\n",
    "#the class_weight=\"balanced\" option tries to remove the biasedness of model towards majority sample\n",
    "#multi_class=\"crammer_singer\"  optimizes a joint objective over all classes"
   ]
  },
  {
   "cell_type": "markdown",
   "metadata": {},
   "source": [
    "Parameter tuning plays a important role. It has been observed that with proper parameter values set, model’s performance increase reasonably. We found the suitable parameters in our case using grid search as shown below by giving various range of n_grams ."
   ]
  },
  {
   "cell_type": "code",
   "execution_count": 14,
   "metadata": {},
   "outputs": [
    {
     "name": "stdout",
     "output_type": "stream",
     "text": [
      "0.6765072247135028\n",
      "{'tfidf__use_idf': True, 'vectorizer__ngram_range': (1, 2)}\n"
     ]
    }
   ],
   "source": [
    "from sklearn.model_selection import GridSearchCV\n",
    "parameters = {'vectorizer__ngram_range': [(1,1),(2,3),(1, 2)],\n",
    "               'tfidf__use_idf': (True, False)}\n",
    "gs_clf_svm = GridSearchCV(model,parameters, n_jobs=-1,cv= 5)\n",
    "gs_clf_svm = gs_clf_svm.fit(X, y)\n",
    "print(gs_clf_svm.best_score_)\n",
    "print(gs_clf_svm.best_params_)"
   ]
  },
  {
   "cell_type": "markdown",
   "metadata": {},
   "source": [
    "So, now we got the suitable parameters from grid search. It’s time to prepare the final pipeline using the best suited parameters"
   ]
  },
  {
   "cell_type": "code",
   "execution_count": 15,
   "metadata": {},
   "outputs": [],
   "source": [
    "from sklearn.pipeline import Pipeline\n",
    "model = Pipeline([('vectorizer', CountVectorizer(ngram_range=(1,2))),\n",
    "    ('tfidf', TfidfTransformer(use_idf=True)),\n",
    "    ('clf', OneVsRestClassifier(LinearSVC(multi_class=\"crammer_singer\",class_weight=\"balanced\",max_iter=1000)))])"
   ]
  },
  {
   "cell_type": "markdown",
   "metadata": {},
   "source": [
    "Then, we fit the model with training data and test data to just have an overview of the overall perfomance.\n",
    "We use accuracy_score from sklearnmetrics to test the accuracy."
   ]
  },
  {
   "cell_type": "code",
   "execution_count": 16,
   "metadata": {},
   "outputs": [
    {
     "name": "stdout",
     "output_type": "stream",
     "text": [
      "The accuracy score is : 0.6629306766293067\n"
     ]
    },
    {
     "data": {
      "text/plain": [
       "array([[35,  0,  0, ...,  1,  0,  0],\n",
       "       [ 0,  0,  0, ...,  0,  1,  0],\n",
       "       [ 0,  0,  5, ...,  0,  0,  0],\n",
       "       ...,\n",
       "       [ 1,  0,  0, ..., 75,  0,  0],\n",
       "       [ 0,  0,  0, ...,  0,  4,  0],\n",
       "       [ 0,  0,  0, ...,  0,  0,  7]], dtype=int64)"
      ]
     },
     "execution_count": 16,
     "metadata": {},
     "output_type": "execute_result"
    }
   ],
   "source": [
    "#fit model with training data\n",
    "model.fit(X_train,Y_train)\n",
    "\n",
    "#evaluation on test data\n",
    "pred = model.predict(X_test)\n",
    "\n",
    "#accuracy score\n",
    "from sklearn.metrics import accuracy_score\n",
    "A_C =accuracy_score(pred, Y_test)\n",
    "print(\"The accuracy score is :\",  A_C )\n",
    "\n",
    "#confusion matrix \n",
    "from sklearn.metrics import confusion_matrix\n",
    "confusion_matrix(pred, Y_test)"
   ]
  },
  {
   "cell_type": "markdown",
   "metadata": {},
   "source": [
    "Now we test the model for predictions"
   ]
  },
  {
   "cell_type": "code",
   "execution_count": 17,
   "metadata": {},
   "outputs": [
    {
     "name": "stdout",
     "output_type": "stream",
     "text": [
      "[29 32 28 ... 28 14 34]\n"
     ]
    }
   ],
   "source": [
    "# testing the predictions\n",
    "test_predictions = model.predict(Y)\n",
    "print(test_predictions)"
   ]
  },
  {
   "cell_type": "markdown",
   "metadata": {},
   "source": [
    "Generating a output csv file"
   ]
  },
  {
   "cell_type": "code",
   "execution_count": 12,
   "metadata": {},
   "outputs": [],
   "source": [
    "data_path=path+\"Ytest.csv\"\n",
    "with open(data_path, 'w', newline='') as csvfile:\n",
    "    \n",
    "    writer = csv.writer(csvfile, delimiter=',')\n",
    "    writer.writerow(['ID'] + ['intentions'])\n",
    "    for k in range(len(test_predictions)):\n",
    "        writer.writerow([l+k] + [test_predictions[k]])"
   ]
  },
  {
   "cell_type": "markdown",
   "metadata": {},
   "source": [
    "Learning curve \n",
    "\n",
    "The following function plot_learning_curve is the same as [plot_learning_curve](https://scikit-learn.org/stable/auto_examples/model_selection/plot_learning_curve.html#sphx-glr-auto-examples-model-selection-plot-learning-curve-py)"
   ]
  },
  {
   "cell_type": "code",
   "execution_count": 68,
   "metadata": {},
   "outputs": [],
   "source": [
    "from sklearn.model_selection import learning_curve\n",
    "from sklearn.model_selection import ShuffleSplit\n",
    "def plot_learning_curve(estimator, title, X, y, ylim=None, cv=None,\n",
    "                        n_jobs=None, train_sizes=np.linspace(.1, 1.0, 5)):\n",
    "    \"\"\"\n",
    "    Generate a simple plot of the test and training learning curve.\n",
    "\n",
    "    Parameters\n",
    "    ----------\n",
    "    estimator : object type that implements the \"fit\" and \"predict\" methods\n",
    "        An object of that type which is cloned for each validation.\n",
    "\n",
    "    title : string\n",
    "        Title for the chart.\n",
    "\n",
    "    X : array-like, shape (n_samples, n_features)\n",
    "        Training vector, where n_samples is the number of samples and\n",
    "        n_features is the number of features.\n",
    "\n",
    "    y : array-like, shape (n_samples) or (n_samples, n_features), optional\n",
    "        Target relative to X for classification or regression;\n",
    "        None for unsupervised learning.\n",
    "\n",
    "    ylim : tuple, shape (ymin, ymax), optional\n",
    "        Defines minimum and maximum yvalues plotted.\n",
    "\n",
    "    cv : int, cross-validation generator or an iterable, optional\n",
    "        Determines the cross-validation splitting strategy.\n",
    "        Possible inputs for cv are:\n",
    "          - None, to use the default 3-fold cross-validation,\n",
    "          - integer, to specify the number of folds.\n",
    "          - :term:`CV splitter`,\n",
    "          - An iterable yielding (train, test) splits as arrays of indices.\n",
    "\n",
    "        For integer/None inputs, if ``y`` is binary or multiclass,\n",
    "        :class:`StratifiedKFold` used. If the estimator is not a classifier\n",
    "        or if ``y`` is neither binary nor multiclass, :class:`KFold` is used.\n",
    "\n",
    "        Refer :ref:`User Guide <cross_validation>` for the various\n",
    "        cross-validators that can be used here.\n",
    "\n",
    "    n_jobs : int or None, optional (default=None)\n",
    "        Number of jobs to run in parallel.\n",
    "        ``None`` means 1 unless in a :obj:`joblib.parallel_backend` context.\n",
    "        ``-1`` means using all processors. See :term:`Glossary <n_jobs>`\n",
    "        for more details.\n",
    "\n",
    "    train_sizes : array-like, shape (n_ticks,), dtype float or int\n",
    "        Relative or absolute numbers of training examples that will be used to\n",
    "        generate the learning curve. If the dtype is float, it is regarded as a\n",
    "        fraction of the maximum size of the training set (that is determined\n",
    "        by the selected validation method), i.e. it has to be within (0, 1].\n",
    "        Otherwise it is interpreted as absolute sizes of the training sets.\n",
    "        Note that for classification the number of samples usually have to\n",
    "        be big enough to contain at least one sample from each class.\n",
    "        (default: np.linspace(0.1, 1.0, 5))\n",
    "    \"\"\"\n",
    "    plt.figure()\n",
    "    plt.title(title)\n",
    "    if ylim is not None:\n",
    "        plt.ylim(*ylim)\n",
    "    plt.xlabel(\"Training examples\")\n",
    "    plt.ylabel(\"Score\")\n",
    "    train_sizes, train_scores, test_scores = learning_curve(\n",
    "        estimator, X, y, cv=cv, n_jobs=n_jobs, train_sizes=train_sizes)\n",
    "    train_scores_mean = np.mean(train_scores, axis=1)\n",
    "    train_scores_std = np.std(train_scores, axis=1)\n",
    "    test_scores_mean = np.mean(test_scores, axis=1)\n",
    "    test_scores_std = np.std(test_scores, axis=1)\n",
    "    plt.grid()\n",
    "\n",
    "    plt.fill_between(train_sizes, train_scores_mean - train_scores_std,\n",
    "                     train_scores_mean + train_scores_std, alpha=0.1,\n",
    "                     color=\"r\")\n",
    "    plt.fill_between(train_sizes, test_scores_mean - test_scores_std,\n",
    "                     test_scores_mean + test_scores_std, alpha=0.1, color=\"g\")\n",
    "    plt.plot(train_sizes, train_scores_mean, 'o-', color=\"r\",\n",
    "             label=\"Training score\")\n",
    "    plt.plot(train_sizes, test_scores_mean, 'o-', color=\"g\",\n",
    "             label=\"Cross-validation score\")\n",
    "\n",
    "    plt.legend(loc=\"best\")\n",
    "    return plt\n"
   ]
  },
  {
   "cell_type": "code",
   "execution_count": 62,
   "metadata": {},
   "outputs": [
    {
     "data": {
      "image/png": "[encoded data removed]",
      "text/plain": [
       "<Figure size 432x288 with 1 Axes>"
      ]
     },
     "metadata": {
      "needs_background": "light"
     },
     "output_type": "display_data"
    }
   ],
   "source": [
    "title = \"Learning Curves linearsvc\"\n",
    "cv = ShuffleSplit(n_splits=10, test_size=0.3, random_state=0)\n",
    "plot_learning_curve(model, title, X, y, ylim=(0,1.30), cv=cv, n_jobs=4)\n",
    "plt.show()"
   ]
  },
  {
   "cell_type": "markdown",
   "metadata": {},
   "source": [
    "We see the learning curve of the LinearSVC. We can see clearly that the training score is still around the maximum and the validation score is less in the start and increases at the end it could be noted that the validation score can be increased with more training samples."
   ]
  }
 ],
 "metadata": {
  "kernelspec": {
   "display_name": "Python 3",
   "language": "python",
   "name": "python3"
  },
  "language_info": {
   "codemirror_mode": {
    "name": "ipython",
    "version": 3
   },
   "file_extension": ".py",
   "mimetype": "text/x-python",
   "name": "python",
   "nbconvert_exporter": "python",
   "pygments_lexer": "ipython3",
   "version": "3.7.4"
  }
 },
 "nbformat": 4,
 "nbformat_minor": 2
}
