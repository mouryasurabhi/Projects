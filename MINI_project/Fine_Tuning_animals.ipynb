{
 "cells": [
  {
   "cell_type": "markdown",
   "metadata": {},
   "source": [
    "# Utilisation de modèles pré-entrainés pour la classification d'images"
   ]
  },
  {
   "cell_type": "markdown",
   "metadata": {},
   "source": [
    "Ce TP a pour objectif d'appliquer les méthodes présentées dans cette [page](https://blog.keras.io/building-powerful-image-classification-models-using-very-little-data.html) à propos de l'exploitation des modèles pré-entrainés.\n",
    "\n",
    "Plus précisément, vous allez appliquer ces méthodes sur les données d'animaux déjà utilisées dans le TP sur les CNNs pour de la classification d'images d'animaux (attention il ne s'agit pas du même jeu de données que celui utilisé dans le tutorial que vous allez suivre).\n",
    "\n",
    "Si nécessaire, vous pouvez télécharger de nouveau les données à cette adresse :\n",
    "\n",
    "https://box.ec-nantes.fr:443/index.php/s/2NxopNZS3FTRBcr\n",
    "\n",
    "\n",
    "Pour ce tp, il peut être efficace d'utiliser un notebook google colaboratory et avoir ainsi accès à du calcul sur GPU.\n",
    "\n",
    "- Pour importer des données dans un notebook colaboratory, voir [ici](https://colab.research.google.com/notebooks/io.ipynb) ou plus simplement [ici](https://medium.com/@simonprdhm/2-manières-simple-de-charger-un-fichier-csv-dans-google-colab-3b86616d248a).\n",
    "- Pour activer le calcul sur GPU : Menu \"modifier\" -> \"paramètres du notebook\" -> choisir GPU dans le menu \"Accélerateur de matériel\". \n"
   ]
  }
 ],
 "metadata": {
  "kernelspec": {
   "display_name": "Python 3",
   "language": "python",
   "name": "python3"
  },
  "language_info": {
   "codemirror_mode": {
    "name": "ipython",
    "version": 3
   },
   "file_extension": ".py",
   "mimetype": "text/x-python",
   "name": "python",
   "nbconvert_exporter": "python",
   "pygments_lexer": "ipython3",
   "version": "3.7.4"
  }
 },
 "nbformat": 4,
 "nbformat_minor": 2
}
