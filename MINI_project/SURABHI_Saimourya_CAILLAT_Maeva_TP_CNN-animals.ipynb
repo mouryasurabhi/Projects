{
 "cells": [
  {
   "cell_type": "markdown",
   "metadata": {},
   "source": [
    "# Convolution Neural Network avec Keras"
   ]
  },
  {
   "cell_type": "code",
   "execution_count": 1,
   "metadata": {},
   "outputs": [],
   "source": [
    "import os\n",
    "import cv2\n",
    "# si nécessaire : conda install -c conda-forge opencv   \n",
    "# ou sinon : https://pypi.org/project/opencv-python/\n",
    "import numpy as np\n",
    "import matplotlib.pyplot as plt\n",
    "from sklearn.utils import shuffle\n",
    "from sklearn.model_selection import train_test_split"
   ]
  },
  {
   "cell_type": "markdown",
   "metadata": {},
   "source": [
    "On importe les librairies nécessaires de Keras"
   ]
  },
  {
   "cell_type": "code",
   "execution_count": 2,
   "metadata": {},
   "outputs": [
    {
     "name": "stderr",
     "output_type": "stream",
     "text": [
      "Using TensorFlow backend.\n"
     ]
    }
   ],
   "source": [
    "from keras.utils import np_utils\n",
    "from keras.models import Sequential\n",
    "from keras.layers.core import Dense, Dropout, Activation, Flatten\n",
    "from keras.layers.convolutional import Conv2D, MaxPooling2D\n",
    "from keras.optimizers import SGD, RMSprop, adam, Adadelta\n",
    "from keras.utils.np_utils import to_categorical"
   ]
  },
  {
   "cell_type": "markdown",
   "metadata": {},
   "source": [
    "# Importation et préparation des données"
   ]
  },
  {
   "cell_type": "markdown",
   "metadata": {},
   "source": [
    "Adresse du dossier où sont entreposées les données:"
   ]
  },
  {
   "cell_type": "code",
   "execution_count": 3,
   "metadata": {},
   "outputs": [],
   "source": [
    "data_path = \"C:/Users/91970/Documents/MASTERS/YEAR 2/app stat/TP/tp6/data_animals\""
   ]
  },
  {
   "cell_type": "markdown",
   "metadata": {},
   "source": [
    "La fonction `os.listdir()` permet de lister le contenu du dossier `data_animals` (un repertoire par classe)."
   ]
  },
  {
   "cell_type": "code",
   "execution_count": 4,
   "metadata": {},
   "outputs": [
    {
     "name": "stdout",
     "output_type": "stream",
     "text": [
      "['cats', 'dogs', 'horses', 'Humans']\n",
      "4\n"
     ]
    }
   ],
   "source": [
    "data_dir_list = os.listdir(data_path)\n",
    "print(data_dir_list)\n",
    "num_classes = len(data_dir_list) \n",
    "print(num_classes)"
   ]
  },
  {
   "cell_type": "markdown",
   "metadata": {},
   "source": [
    "Toutes les images ne sont pas au même format (nb de pixels).\n",
    "Le réseau CNN impose que toutes les données aient la même dimension. Il nous faudra  transfomrer les images pour qu'elles soient toutes au même format : 128x 128."
   ]
  },
  {
   "cell_type": "code",
   "execution_count": 5,
   "metadata": {},
   "outputs": [],
   "source": [
    "img_rows=128\n",
    "img_cols=128"
   ]
  },
  {
   "cell_type": "markdown",
   "metadata": {},
   "source": [
    "Nous n'allons utiliser ici qu'un seul canal:"
   ]
  },
  {
   "cell_type": "code",
   "execution_count": 6,
   "metadata": {},
   "outputs": [],
   "source": [
    "num_channel=1"
   ]
  },
  {
   "cell_type": "markdown",
   "metadata": {},
   "source": [
    "> Compléter le script ci-dessous pour importer les images sous la forme de tableaux 128x128 dans la liste img_data_list.\n",
    "*  `my_img = cv2.imread(\"file\")`  : lecture d'un fichier image\n",
    "*  `cv2.cvtColor(my_img, cv2.COLOR_BGR2GRAY)` : convertit le fichier image en niveaux de gris\n",
    "*  `cv2.resize(input_img,(n,p))` : redimensionne l'image au format n x p "
   ]
  },
  {
   "cell_type": "code",
   "execution_count": 7,
   "metadata": {},
   "outputs": [
    {
     "name": "stdout",
     "output_type": "stream",
     "text": [
      "Loaded the images of dataset-cats\n",
      "\n",
      "Loaded the images of dataset-dogs\n",
      "\n",
      "Loaded the images of dataset-horses\n",
      "\n",
      "Loaded the images of dataset-Humans\n",
      "\n",
      "(808, 16384)\n"
     ]
    },
    {
     "name": "stderr",
     "output_type": "stream",
     "text": [
      "C:\\Users\\91970\\Anaconda3\\lib\\site-packages\\sklearn\\preprocessing\\data.py:172: UserWarning: Numerical issues were encountered when centering the data and might not be solved. Dataset may contain too large values. You may need to prescale your features.\n",
      "  warnings.warn(\"Numerical issues were encountered \"\n",
      "C:\\Users\\91970\\Anaconda3\\lib\\site-packages\\sklearn\\preprocessing\\data.py:189: UserWarning: Numerical issues were encountered when scaling the data and might not be solved. The standard deviation of the data is probably very close to 0. \n",
      "  warnings.warn(\"Numerical issues were encountered \"\n"
     ]
    },
    {
     "name": "stdout",
     "output_type": "stream",
     "text": [
      "(808, 16384)\n",
      "7.487465e-09\n",
      "1.0000005\n",
      "[-1.3735625e-07 -6.5063489e-08  6.2702910e-08 ...  1.3278262e-08\n",
      " -1.1802900e-07  1.7261740e-08]\n",
      "[1.0000008  0.99999976 1.         ... 0.9999998  1.0000005  1.0000005 ]\n"
     ]
    }
   ],
   "source": [
    "from sklearn import preprocessing\n",
    "\n",
    "img_data_list=[]\n",
    "\n",
    "for dataset in data_dir_list: # boucle sur les 4 repertoires\n",
    "    img_list=os.listdir(data_path+'/'+ dataset)  # \n",
    "    print ('Loaded the images of dataset-'+'{}\\n'.format(dataset))\n",
    "    for img in img_list:\n",
    "        input_img_raw=  cv2.imread( data_path + '/' + dataset+ '/' + img)\n",
    "        input_img_grey= cv2.cvtColor(input_img_raw, cv2.COLOR_BGR2GRAY)\n",
    "        input_img_flatten=cv2.resize(input_img_grey,(128,128)).flatten()\n",
    "        img_data_list.append(input_img_flatten)\n",
    "\n",
    "        \n",
    "img_data = np.array(img_data_list)\n",
    "img_data = img_data.astype('float32')\n",
    "print (img_data.shape)\n",
    "img_data_scaled = preprocessing.scale(img_data)\n",
    "print (img_data_scaled.shape)\n",
    "\n",
    "print (np.mean(img_data_scaled))\n",
    "print (np.std(img_data_scaled))\n",
    "\n",
    "print (img_data_scaled.mean(axis=0))\n",
    "print (img_data_scaled.std(axis=0))  "
   ]
  },
  {
   "cell_type": "markdown",
   "metadata": {},
   "source": [
    "> Quelle la dimension du tableau `img_data.shape` ?"
   ]
  },
  {
   "cell_type": "code",
   "execution_count": 8,
   "metadata": {},
   "outputs": [
    {
     "data": {
      "text/plain": [
       "(808, 16384)"
      ]
     },
     "execution_count": 8,
     "metadata": {},
     "output_type": "execute_result"
    }
   ],
   "source": [
    "img_data.shape"
   ]
  },
  {
   "cell_type": "markdown",
   "metadata": {},
   "source": [
    "La première couche du réseau de convolution  prend en entrée un tableau de dimension 3 : (hauteur, largeur, profondeur) où la profondeur correspond aux nombres de canaux (ici 1).\n",
    "\n",
    "Avec Tensor Flow (ici en backend) la profondeur sera donnée en dernière position. \n",
    "\n",
    "Nous redimensionnons les données pour y ajouter la dimension de profondeur (en réalité inutile pour nos données qui sont ici en niveaux gris)."
   ]
  },
  {
   "cell_type": "code",
   "execution_count": 9,
   "metadata": {},
   "outputs": [
    {
     "name": "stdout",
     "output_type": "stream",
     "text": [
      "(808, 128, 128, 1)\n"
     ]
    }
   ],
   "source": [
    "img_data_scaled=img_data_scaled.reshape(img_data.shape[0],\n",
    "                                        img_rows,img_cols,\n",
    "                                        num_channel)\n",
    "print (img_data_scaled.shape)\n",
    "img_data = img_data_scaled"
   ]
  },
  {
   "cell_type": "markdown",
   "metadata": {},
   "source": [
    "Nous indiquons maintenant les labels des images:"
   ]
  },
  {
   "cell_type": "code",
   "execution_count": 10,
   "metadata": {},
   "outputs": [],
   "source": [
    "num_of_samples = img_data.shape[0]\n",
    "labels = np.ones((num_of_samples,),dtype='int64')\n",
    "labels[0:202]=0\n",
    "labels[202:404]=1\n",
    "labels[404:606]=2\n",
    "labels[606:]=3\n",
    "\n",
    "names = ['cats','dogs','horses','humans']\n",
    "N=np.asarray(names)"
   ]
  },
  {
   "cell_type": "markdown",
   "metadata": {},
   "source": [
    "> Convertir les labels en \"one-hot encoding\""
   ]
  },
  {
   "cell_type": "code",
   "execution_count": 11,
   "metadata": {},
   "outputs": [],
   "source": [
    "labels_one_hot=to_categorical(labels)"
   ]
  },
  {
   "cell_type": "markdown",
   "metadata": {},
   "source": [
    "> Séparer  les données en train / test (0.8-0.2)."
   ]
  },
  {
   "cell_type": "code",
   "execution_count": 12,
   "metadata": {},
   "outputs": [],
   "source": [
    "X_train, X_test, Y_train, Y_test = train_test_split(img_data, labels_one_hot, train_size=0.8, random_state=1)"
   ]
  },
  {
   "cell_type": "markdown",
   "metadata": {},
   "source": [
    "# Définition de l'architecture du modèle"
   ]
  },
  {
   "cell_type": "markdown",
   "metadata": {},
   "source": [
    "Nous définissons ci-dessous les deux premiers niveaux de convolution du réseau convolutionnel.\n",
    "Chacune de ces deux couches est définie comme suit :\n",
    "+ 32 noyaux (filtres)\n",
    "+ Pas (stride) = 1\n",
    "+ Kernel size = (3,3)\n",
    "+ padding = 'same' (i.e. 0 padding : bordures à 0)\n",
    "+ activation : relu\n",
    "\n",
    "> Créer un modèle séquentiel composé de 4 couches succesives (conv + relu + conv + relu). Voir  [ici](https://keras.io/layers/convolutional/#conv2d) et  [ici](https://keras.io/examples/cifar10_cnn/) pour la synthaxe de la couche de convolution `Conv2D`."
   ]
  },
  {
   "cell_type": "code",
   "execution_count": 13,
   "metadata": {},
   "outputs": [
    {
     "name": "stdout",
     "output_type": "stream",
     "text": [
      "WARNING:tensorflow:From C:\\Users\\91970\\Anaconda3\\lib\\site-packages\\keras\\backend\\tensorflow_backend.py:66: The name tf.get_default_graph is deprecated. Please use tf.compat.v1.get_default_graph instead.\n",
      "\n",
      "WARNING:tensorflow:From C:\\Users\\91970\\Anaconda3\\lib\\site-packages\\keras\\backend\\tensorflow_backend.py:541: The name tf.placeholder is deprecated. Please use tf.compat.v1.placeholder instead.\n",
      "\n",
      "WARNING:tensorflow:From C:\\Users\\91970\\Anaconda3\\lib\\site-packages\\keras\\backend\\tensorflow_backend.py:4432: The name tf.random_uniform is deprecated. Please use tf.random.uniform instead.\n",
      "\n"
     ]
    }
   ],
   "source": [
    "model = Sequential()\n",
    "\n",
    "model.add(Conv2D(filters=32, kernel_size=(3,3), strides=1, padding='same', input_shape=X_train.shape[1:]))\n",
    "model.add(Activation('relu'))\n",
    "\n",
    "model.add(Conv2D(filters=32, kernel_size=(3,3), strides=1, padding='same'))\n",
    "model.add(Activation('relu'))"
   ]
  },
  {
   "cell_type": "markdown",
   "metadata": {},
   "source": [
    "> Executez les codes ci-dessous et decrire les sorties obtenues"
   ]
  },
  {
   "cell_type": "code",
   "execution_count": 14,
   "metadata": {},
   "outputs": [
    {
     "name": "stdout",
     "output_type": "stream",
     "text": [
      "(None, 128, 128, 1)\n",
      "(None, 128, 128, 32)\n"
     ]
    }
   ],
   "source": [
    "print(model.layers[0].input_shape)\n",
    "print(model.layers[1].input_shape)"
   ]
  },
  {
   "cell_type": "markdown",
   "metadata": {},
   "source": [
    "(`batch_size`,`n_l`,`n_c`,`nb de canaux`)\n",
    "\n",
    "En pratique on laisse Keras dimensionner correctement les couches en fonction du `batch_size`.\n",
    "Noter que l'on peut néanmoins dimensionner \"à la main\" une couche en fonction de la taille du batch. \n",
    "\n",
    "> Passer `batch_size=16` en argument de `Conv2D()` et vérifier les dimension de la couche cachée."
   ]
  },
  {
   "cell_type": "code",
   "execution_count": 15,
   "metadata": {},
   "outputs": [
    {
     "name": "stdout",
     "output_type": "stream",
     "text": [
      "(16, 128, 128, 1)\n"
     ]
    }
   ],
   "source": [
    "model1 = Sequential()\n",
    "\n",
    "model1.add(Conv2D(32, (3,3), strides=1, padding='same', batch_size = 16, input_shape=X_train.shape[1:]))\n",
    "model1.add(Activation('relu'))\n",
    "\n",
    "print(model1.layers[0].input_shape)"
   ]
  },
  {
   "cell_type": "markdown",
   "metadata": {},
   "source": [
    "> Executez les codes ci-dessous et decrire les sorties obtenues. Expliquer en particulier la dimension de la troisième couche en utilisant `get_weights()`."
   ]
  },
  {
   "cell_type": "code",
   "execution_count": 16,
   "metadata": {},
   "outputs": [
    {
     "name": "stdout",
     "output_type": "stream",
     "text": [
      "Model: \"sequential_1\"\n",
      "_________________________________________________________________\n",
      "Layer (type)                 Output Shape              Param #   \n",
      "=================================================================\n",
      "conv2d_1 (Conv2D)            (None, 128, 128, 32)      320       \n",
      "_________________________________________________________________\n",
      "activation_1 (Activation)    (None, 128, 128, 32)      0         \n",
      "_________________________________________________________________\n",
      "conv2d_2 (Conv2D)            (None, 128, 128, 32)      9248      \n",
      "_________________________________________________________________\n",
      "activation_2 (Activation)    (None, 128, 128, 32)      0         \n",
      "=================================================================\n",
      "Total params: 9,568\n",
      "Trainable params: 9,568\n",
      "Non-trainable params: 0\n",
      "_________________________________________________________________\n"
     ]
    }
   ],
   "source": [
    "model.summary()"
   ]
  },
  {
   "cell_type": "code",
   "execution_count": 17,
   "metadata": {},
   "outputs": [
    {
     "name": "stdout",
     "output_type": "stream",
     "text": [
      "WARNING:tensorflow:From C:\\Users\\91970\\Anaconda3\\lib\\site-packages\\keras\\backend\\tensorflow_backend.py:190: The name tf.get_default_session is deprecated. Please use tf.compat.v1.get_default_session instead.\n",
      "\n",
      "WARNING:tensorflow:From C:\\Users\\91970\\Anaconda3\\lib\\site-packages\\keras\\backend\\tensorflow_backend.py:197: The name tf.ConfigProto is deprecated. Please use tf.compat.v1.ConfigProto instead.\n",
      "\n"
     ]
    },
    {
     "data": {
      "text/plain": [
       "(3, 3, 32, 32)"
      ]
     },
     "execution_count": 17,
     "metadata": {},
     "output_type": "execute_result"
    }
   ],
   "source": [
    "np.shape(model.layers[2].get_weights()[0])"
   ]
  },
  {
   "cell_type": "markdown",
   "metadata": {},
   "source": [
    "Multichannel convolution:\n",
    "\\begin{eqnarray} Z(i,j,l) &= & ( V \\star K ) (i,j,l) \\\\\n",
    "& =  & \\sum_{u,v,w}   V (i+u, j+v,w ) w_{u,v,l,w} $$ \n",
    "where \n",
    "+ $V$  and $Z$ have the same dimensions (multichannel).\n",
    "+ $K(u,v,l,w) $ gives the connection strength between a unit in channel $l$ of the output and a unit in channel $w$ of the input, with an offset of  $u$ rows and $v$ columns between the output unit and the input unit."
   ]
  },
  {
   "cell_type": "code",
   "execution_count": null,
   "metadata": {},
   "outputs": [],
   "source": [
    "?"
   ]
  },
  {
   "cell_type": "markdown",
   "metadata": {},
   "source": [
    "> Vérifier que les poids sont (déjà) initialisés aléatoirement alors que les biais sont initialisés à 0. "
   ]
  },
  {
   "cell_type": "code",
   "execution_count": 18,
   "metadata": {},
   "outputs": [
    {
     "name": "stdout",
     "output_type": "stream",
     "text": [
      "[array([[[[ 1.79685652e-02,  1.21585205e-01,  7.11981505e-02,\n",
      "           1.27387211e-01, -1.33042857e-01, -2.15949789e-02,\n",
      "          -5.04030138e-02, -1.33793801e-01, -4.14319187e-02,\n",
      "           1.18558630e-01,  9.77788419e-02,  1.36746064e-01,\n",
      "           8.75504166e-02, -1.27179131e-01, -6.44061789e-02,\n",
      "          -1.22730434e-01, -1.08301640e-04,  1.24166235e-01,\n",
      "          -1.37607992e-01, -6.95706829e-02, -2.26895735e-02,\n",
      "          -7.29372501e-02, -1.32182807e-01, -1.31454766e-01,\n",
      "          -7.15542063e-02, -1.05049759e-02, -1.88599974e-02,\n",
      "           1.38848469e-01, -6.41238689e-02,  9.23047215e-02,\n",
      "           1.38784125e-01,  6.90263808e-02]],\n",
      "\n",
      "        [[ 1.33709565e-01, -2.31244192e-02, -1.35899261e-01,\n",
      "          -1.35293052e-01,  3.68277431e-02,  4.18093950e-02,\n",
      "          -1.18600547e-01,  4.76335734e-02,  4.93636727e-03,\n",
      "          -7.90888593e-02, -2.46691033e-02,  8.78196210e-02,\n",
      "           4.99052852e-02, -6.14750981e-02,  8.86815190e-02,\n",
      "           4.62177545e-02,  1.08392492e-01, -1.14784017e-01,\n",
      "          -9.59567577e-02, -2.61189044e-02, -6.77154139e-02,\n",
      "          -1.20085120e-01, -6.53832182e-02, -4.97755259e-02,\n",
      "          -2.44291797e-02, -6.56459853e-02, -4.33946401e-02,\n",
      "          -2.90366039e-02,  9.75127667e-02, -8.44542384e-02,\n",
      "          -1.98909566e-02,  6.36789948e-02]],\n",
      "\n",
      "        [[-1.06512606e-02,  5.40686101e-02,  9.77971703e-02,\n",
      "          -1.20095521e-01,  1.43577158e-03,  9.51521695e-02,\n",
      "          -6.91659972e-02,  1.33850083e-01, -2.74730772e-02,\n",
      "          -1.20212585e-02,  6.96410239e-02, -4.86174226e-02,\n",
      "          -1.08308822e-01, -7.79121146e-02, -6.39337897e-02,\n",
      "          -1.24046549e-01, -1.07247576e-01,  2.30844617e-02,\n",
      "          -1.10398665e-01, -1.03414744e-01,  1.14702120e-01,\n",
      "          -2.19634399e-02, -2.47444734e-02, -1.08506531e-02,\n",
      "          -4.96912450e-02,  8.81905556e-02, -3.87376547e-03,\n",
      "          -2.45214999e-03, -9.41199586e-02,  1.30251423e-01,\n",
      "           1.29600421e-01,  9.70726609e-02]]],\n",
      "\n",
      "\n",
      "       [[[ 1.17587104e-01,  4.51007038e-02, -1.07056990e-01,\n",
      "          -1.65125877e-02, -7.40213767e-02,  1.17781892e-01,\n",
      "           1.02896348e-01,  1.00134656e-01, -4.82500866e-02,\n",
      "           2.63643116e-02, -9.00329798e-02, -1.10227868e-01,\n",
      "          -7.72992671e-02, -1.13106802e-01,  2.05727071e-02,\n",
      "           1.06980279e-01,  2.86162645e-02,  5.87548316e-03,\n",
      "          -8.89304876e-02, -7.69514441e-02, -2.58514360e-02,\n",
      "          -9.88456458e-02, -4.94221821e-02,  8.45487118e-02,\n",
      "           9.76809114e-02,  3.73977274e-02, -1.10019296e-02,\n",
      "           1.26010224e-01,  7.64172822e-02,  4.11287695e-02,\n",
      "           3.88637185e-03, -5.97759187e-02]],\n",
      "\n",
      "        [[ 5.23709506e-02,  9.71926302e-02,  8.69503170e-02,\n",
      "          -8.96432400e-02, -7.58916885e-02,  1.01037219e-01,\n",
      "           4.95415032e-02, -4.54019010e-03, -3.46638337e-02,\n",
      "           8.91521722e-02, -1.07269436e-02,  1.18417636e-01,\n",
      "           1.26248375e-01,  7.29127824e-02, -4.00453806e-03,\n",
      "           1.11302003e-01, -6.94094822e-02,  1.28887221e-01,\n",
      "          -8.92242566e-02,  1.74065381e-02, -1.17180496e-01,\n",
      "           1.03875309e-01,  8.37693810e-02, -1.13274544e-01,\n",
      "           1.28866658e-01,  1.04812235e-02, -3.66190076e-03,\n",
      "           7.22907782e-02,  1.68826133e-02, -6.33351505e-03,\n",
      "          -1.39418691e-01,  1.37387171e-01]],\n",
      "\n",
      "        [[ 7.49153942e-02, -4.81449664e-02,  2.45811343e-02,\n",
      "          -8.47952068e-03, -6.68954104e-02, -3.58159393e-02,\n",
      "           1.87192261e-02,  6.95869178e-02,  7.21312463e-02,\n",
      "           1.04388326e-01,  1.44299418e-02, -9.08792168e-02,\n",
      "           1.18453339e-01, -1.31298646e-01,  8.06555301e-02,\n",
      "          -1.23449184e-01, -1.22768320e-01,  1.28063247e-01,\n",
      "          -6.67522699e-02, -1.23143896e-01, -8.33382905e-02,\n",
      "           3.62675190e-02, -1.24031030e-01, -9.43206102e-02,\n",
      "           6.75708055e-04,  1.14326522e-01, -5.92876375e-02,\n",
      "          -1.27893209e-01, -5.81168234e-02,  1.36272535e-01,\n",
      "          -1.07889399e-01, -8.25541094e-02]]],\n",
      "\n",
      "\n",
      "       [[[-1.21000312e-01, -4.54997197e-02, -1.15764789e-01,\n",
      "           8.58952105e-03,  8.25316012e-02,  9.74254310e-02,\n",
      "          -5.92314154e-02,  9.65184420e-02, -4.63857725e-02,\n",
      "           1.55384988e-02, -1.20299250e-01,  1.18891701e-01,\n",
      "           1.15390494e-01, -1.22225374e-01,  4.55004275e-02,\n",
      "           9.87650305e-02,  9.79523510e-02,  1.13968179e-01,\n",
      "           1.33702710e-01,  6.74694330e-02,  7.95241445e-02,\n",
      "          -1.69076771e-02, -5.09860814e-02, -6.33725822e-02,\n",
      "          -1.31591201e-01,  1.01589039e-01, -7.31469169e-02,\n",
      "           3.88094485e-02, -3.61830741e-02, -1.15986310e-01,\n",
      "          -9.53360423e-02,  8.27322155e-02]],\n",
      "\n",
      "        [[-2.53725350e-02, -1.16280079e-01,  5.52660227e-02,\n",
      "          -9.10887718e-02, -1.31181061e-01,  4.05720919e-02,\n",
      "           4.51295972e-02, -1.16199628e-01, -5.51526248e-03,\n",
      "          -7.12889731e-02,  8.02491903e-02,  2.12586820e-02,\n",
      "          -9.45824832e-02,  2.51754522e-02,  3.33123356e-02,\n",
      "           8.50801319e-02, -8.88824686e-02,  8.05642456e-02,\n",
      "           8.85343105e-02, -2.48577520e-02, -1.04976788e-01,\n",
      "          -1.15871936e-01,  5.28854281e-02, -9.37521160e-02,\n",
      "          -7.66677037e-02,  1.00357801e-01,  4.38593775e-02,\n",
      "           9.83339846e-02,  1.28071085e-01, -7.36089647e-02,\n",
      "          -1.13283217e-01,  5.15469909e-03]],\n",
      "\n",
      "        [[ 1.01456195e-01,  6.49663806e-03, -1.14340097e-01,\n",
      "          -1.26415238e-01,  1.91395730e-02,  2.20620781e-02,\n",
      "          -1.30410388e-01,  7.69670308e-02,  9.38416719e-02,\n",
      "           2.27469802e-02, -5.58452532e-02,  1.20700374e-01,\n",
      "          -1.00999027e-01, -8.25101212e-02, -5.57291955e-02,\n",
      "          -7.13288933e-02,  2.52755135e-02, -9.91873741e-02,\n",
      "           6.53270334e-02, -1.37331709e-01,  1.29703000e-01,\n",
      "           1.84949934e-02, -6.92286193e-02,  4.42297757e-03,\n",
      "           3.28976959e-02, -8.88283849e-02, -1.05971247e-01,\n",
      "           1.13920376e-01,  6.95684105e-02, -4.92684543e-03,\n",
      "          -1.00329407e-01,  9.15480405e-02]]]], dtype=float32), array([0., 0., 0., 0., 0., 0., 0., 0., 0., 0., 0., 0., 0., 0., 0., 0., 0.,\n",
      "       0., 0., 0., 0., 0., 0., 0., 0., 0., 0., 0., 0., 0., 0., 0.],\n",
      "      dtype=float32)]\n"
     ]
    }
   ],
   "source": [
    "print(model.layers[0].get_weights())"
   ]
  },
  {
   "cell_type": "markdown",
   "metadata": {},
   "source": [
    "> Construire l'architecture complète du réseau  :\n",
    "+ Une convolution à 32 filtres de taille (3,3), zero padding\n",
    "+ Relu activation\n",
    "+ Une convolution à 32 filtres de taille (3,3), zero padding\n",
    "+ Relu activation\n",
    "+ Maxpooling2D (2,2) [documentation](https://keras.io/layers/pooling/#maxpooling2d)\n",
    "+ Dropout(0.5) [documentation](https://keras.io/layers/core/#dropout)\n",
    "+ Une convolution à 64 filtres de taille (3,3), zero padding\n",
    "+ Maxpooling2D (2,2) \n",
    "+ Dropout(0.5) \n",
    "+ Flatten  [documentation](https://keras.io/layers/core/#flatten)\n",
    "+ Dense(64)\n",
    "+ Relu activation\n",
    "+ Dropout(0.5)\n",
    "+ Dense(4)\n",
    "+ Softmax\n",
    "Afficher un résumé de l'architecture avec model.summary()  \n",
    "Créer un diagramme de l'architecture avec "
   ]
  },
  {
   "cell_type": "code",
   "execution_count": 19,
   "metadata": {
    "scrolled": true
   },
   "outputs": [
    {
     "name": "stdout",
     "output_type": "stream",
     "text": [
      "WARNING:tensorflow:From C:\\Users\\91970\\Anaconda3\\lib\\site-packages\\keras\\backend\\tensorflow_backend.py:4267: The name tf.nn.max_pool is deprecated. Please use tf.nn.max_pool2d instead.\n",
      "\n",
      "WARNING:tensorflow:From C:\\Users\\91970\\Anaconda3\\lib\\site-packages\\keras\\backend\\tensorflow_backend.py:3733: calling dropout (from tensorflow.python.ops.nn_ops) with keep_prob is deprecated and will be removed in a future version.\n",
      "Instructions for updating:\n",
      "Please use `rate` instead of `keep_prob`. Rate should be set to `rate = 1 - keep_prob`.\n",
      "Model: \"sequential_3\"\n",
      "_________________________________________________________________\n",
      "Layer (type)                 Output Shape              Param #   \n",
      "=================================================================\n",
      "conv2d_4 (Conv2D)            (None, 128, 128, 32)      320       \n",
      "_________________________________________________________________\n",
      "activation_4 (Activation)    (None, 128, 128, 32)      0         \n",
      "_________________________________________________________________\n",
      "conv2d_5 (Conv2D)            (None, 128, 128, 32)      9248      \n",
      "_________________________________________________________________\n",
      "activation_5 (Activation)    (None, 128, 128, 32)      0         \n",
      "_________________________________________________________________\n",
      "max_pooling2d_1 (MaxPooling2 (None, 64, 64, 32)        0         \n",
      "_________________________________________________________________\n",
      "dropout_1 (Dropout)          (None, 64, 64, 32)        0         \n",
      "_________________________________________________________________\n",
      "conv2d_6 (Conv2D)            (None, 64, 64, 64)        18496     \n",
      "_________________________________________________________________\n",
      "max_pooling2d_2 (MaxPooling2 (None, 32, 32, 64)        0         \n",
      "_________________________________________________________________\n",
      "dropout_2 (Dropout)          (None, 32, 32, 64)        0         \n",
      "_________________________________________________________________\n",
      "flatten_1 (Flatten)          (None, 65536)             0         \n",
      "_________________________________________________________________\n",
      "dense_1 (Dense)              (None, 64)                4194368   \n",
      "_________________________________________________________________\n",
      "activation_6 (Activation)    (None, 64)                0         \n",
      "_________________________________________________________________\n",
      "dropout_3 (Dropout)          (None, 64)                0         \n",
      "_________________________________________________________________\n",
      "dense_2 (Dense)              (None, 4)                 260       \n",
      "_________________________________________________________________\n",
      "activation_7 (Activation)    (None, 4)                 0         \n",
      "=================================================================\n",
      "Total params: 4,222,692\n",
      "Trainable params: 4,222,692\n",
      "Non-trainable params: 0\n",
      "_________________________________________________________________\n"
     ]
    }
   ],
   "source": [
    "model = Sequential()\n",
    "\n",
    "model.add(Conv2D(filters=32, kernel_size=(3,3), strides=1, padding='same', input_shape=X_train.shape[1:])) #bien une 2D?\n",
    "model.add(Activation('relu'))\n",
    "model.add(Conv2D(filters=32, kernel_size=(3,3), strides=1, padding='same'))\n",
    "model.add(Activation('relu'))\n",
    "model.add(MaxPooling2D((2, 2)))\n",
    "model.add(Dropout(0.5))\n",
    "model.add(Conv2D(filters=64, kernel_size=(3,3), strides=1, padding='same'))\n",
    "model.add(MaxPooling2D((2, 2)))\n",
    "model.add(Dropout(0.5))\n",
    "model.add(Flatten())\n",
    "model.add(Dense(64))\n",
    "model.add(Activation('relu'))\n",
    "model.add(Dropout(0.5))\n",
    "model.add(Dense(4))\n",
    "model.add(Activation(\"softmax\"))\n",
    "\n",
    "model.summary()"
   ]
  },
  {
   "cell_type": "markdown",
   "metadata": {},
   "source": [
    "# Apprentissage"
   ]
  },
  {
   "cell_type": "markdown",
   "metadata": {},
   "source": [
    "> Entreiner le modèle avec la méthode sgd (learning rate de 0.01 et momentum de 0.9) puis avec la méthode adam."
   ]
  },
  {
   "cell_type": "code",
   "execution_count": 21,
   "metadata": {},
   "outputs": [
    {
     "name": "stdout",
     "output_type": "stream",
     "text": [
      "WARNING:tensorflow:From C:\\Users\\91970\\Anaconda3\\lib\\site-packages\\keras\\optimizers.py:793: The name tf.train.Optimizer is deprecated. Please use tf.compat.v1.train.Optimizer instead.\n",
      "\n",
      "WARNING:tensorflow:From C:\\Users\\91970\\Anaconda3\\lib\\site-packages\\tensorflow\\python\\ops\\math_grad.py:1250: add_dispatch_support.<locals>.wrapper (from tensorflow.python.ops.array_ops) is deprecated and will be removed in a future version.\n",
      "Instructions for updating:\n",
      "Use tf.where in 2.0, which has the same broadcast rule as np.where\n",
      "Train on 581 samples, validate on 65 samples\n",
      "Epoch 1/100\n",
      "581/581 [==============================] - 14s 25ms/step - loss: 1.4002 - acc: 0.2874 - val_loss: 1.6152 - val_acc: 0.1846\n",
      "Epoch 2/100\n",
      "581/581 [==============================] - 16s 27ms/step - loss: 1.3951 - acc: 0.2599 - val_loss: 2.7199 - val_acc: 0.1846\n",
      "Epoch 3/100\n",
      "581/581 [==============================] - 15s 26ms/step - loss: 1.3280 - acc: 0.3356 - val_loss: 1.3893 - val_acc: 0.1846\n",
      "Epoch 4/100\n",
      "581/581 [==============================] - 18s 30ms/step - loss: 1.3274 - acc: 0.3236 - val_loss: 1.2963 - val_acc: 0.3385\n",
      "Epoch 5/100\n",
      "581/581 [==============================] - 17s 29ms/step - loss: 1.2920 - acc: 0.3666 - val_loss: 1.3307 - val_acc: 0.3692\n",
      "Epoch 6/100\n",
      "581/581 [==============================] - 15s 26ms/step - loss: 1.2259 - acc: 0.3924 - val_loss: 1.0794 - val_acc: 0.6000\n",
      "Epoch 7/100\n",
      "581/581 [==============================] - 16s 27ms/step - loss: 1.1533 - acc: 0.4699 - val_loss: 2.2831 - val_acc: 0.4000\n",
      "Epoch 8/100\n",
      "581/581 [==============================] - 15s 26ms/step - loss: 1.4512 - acc: 0.3287 - val_loss: 1.3863 - val_acc: 0.2308\n",
      "Epoch 9/100\n",
      "581/581 [==============================] - 15s 27ms/step - loss: 1.4117 - acc: 0.2651 - val_loss: 1.3903 - val_acc: 0.2308\n",
      "Epoch 10/100\n",
      "581/581 [==============================] - 16s 27ms/step - loss: 1.3766 - acc: 0.2719 - val_loss: 1.3929 - val_acc: 0.2154\n",
      "Epoch 11/100\n",
      "581/581 [==============================] - 17s 30ms/step - loss: 1.3827 - acc: 0.2633 - val_loss: 1.3889 - val_acc: 0.2308\n",
      "Epoch 12/100\n",
      "581/581 [==============================] - 17s 29ms/step - loss: 1.3813 - acc: 0.2651 - val_loss: 1.3919 - val_acc: 0.2308\n",
      "Epoch 13/100\n",
      "581/581 [==============================] - 16s 27ms/step - loss: 1.3634 - acc: 0.2857 - val_loss: 1.3281 - val_acc: 0.2769\n",
      "Epoch 14/100\n",
      "581/581 [==============================] - 16s 27ms/step - loss: 1.3404 - acc: 0.2840 - val_loss: 1.2997 - val_acc: 0.2769\n",
      "Epoch 15/100\n",
      "581/581 [==============================] - 17s 29ms/step - loss: 1.2828 - acc: 0.3219 - val_loss: 1.2257 - val_acc: 0.3231\n",
      "Epoch 16/100\n",
      "581/581 [==============================] - 15s 26ms/step - loss: 1.2596 - acc: 0.3838 - val_loss: 1.3878 - val_acc: 0.3077\n",
      "Train on 581 samples, validate on 65 samples\n",
      "Epoch 1/100\n",
      "581/581 [==============================] - 18s 31ms/step - loss: 1.2390 - acc: 0.4269 - val_loss: 1.1551 - val_acc: 0.4615\n",
      "Epoch 2/100\n",
      "581/581 [==============================] - 17s 29ms/step - loss: 1.1164 - acc: 0.4733 - val_loss: 1.1722 - val_acc: 0.4769\n",
      "Epoch 3/100\n",
      "581/581 [==============================] - 17s 30ms/step - loss: 1.0520 - acc: 0.5284 - val_loss: 1.1493 - val_acc: 0.4923\n",
      "Epoch 4/100\n",
      "581/581 [==============================] - 18s 32ms/step - loss: 0.9336 - acc: 0.5663 - val_loss: 1.1544 - val_acc: 0.4308\n",
      "Epoch 5/100\n",
      "581/581 [==============================] - 18s 31ms/step - loss: 0.8671 - acc: 0.5955 - val_loss: 1.1856 - val_acc: 0.5385\n",
      "Epoch 6/100\n",
      "581/581 [==============================] - 19s 33ms/step - loss: 0.8037 - acc: 0.6523 - val_loss: 1.1748 - val_acc: 0.4615\n",
      "Epoch 7/100\n",
      "581/581 [==============================] - 18s 31ms/step - loss: 0.7561 - acc: 0.6644 - val_loss: 1.0050 - val_acc: 0.5846\n",
      "Epoch 8/100\n",
      "581/581 [==============================] - 17s 28ms/step - loss: 0.7179 - acc: 0.6971 - val_loss: 1.0763 - val_acc: 0.5538\n",
      "Epoch 9/100\n",
      "581/581 [==============================] - 16s 28ms/step - loss: 0.7001 - acc: 0.6885 - val_loss: 1.0283 - val_acc: 0.5692\n",
      "Epoch 10/100\n",
      "581/581 [==============================] - 18s 32ms/step - loss: 0.7151 - acc: 0.7040 - val_loss: 1.0659 - val_acc: 0.5846\n",
      "Epoch 11/100\n",
      "581/581 [==============================] - 18s 31ms/step - loss: 0.5984 - acc: 0.7453 - val_loss: 1.0523 - val_acc: 0.5846\n",
      "Epoch 12/100\n",
      "581/581 [==============================] - 19s 32ms/step - loss: 0.5688 - acc: 0.7470 - val_loss: 1.1905 - val_acc: 0.5692\n",
      "Epoch 13/100\n",
      "581/581 [==============================] - 19s 32ms/step - loss: 0.5605 - acc: 0.7418 - val_loss: 0.9607 - val_acc: 0.5385\n",
      "Epoch 14/100\n",
      "581/581 [==============================] - 18s 31ms/step - loss: 0.5817 - acc: 0.7608 - val_loss: 1.0796 - val_acc: 0.5692\n",
      "Epoch 15/100\n",
      "581/581 [==============================] - 19s 33ms/step - loss: 0.4487 - acc: 0.8090 - val_loss: 1.2015 - val_acc: 0.5231\n",
      "Epoch 16/100\n",
      "581/581 [==============================] - 20s 34ms/step - loss: 0.3671 - acc: 0.8382 - val_loss: 1.4065 - val_acc: 0.4923\n",
      "Epoch 17/100\n",
      "581/581 [==============================] - 17s 30ms/step - loss: 0.4826 - acc: 0.7780 - val_loss: 1.2510 - val_acc: 0.5231\n",
      "Epoch 18/100\n",
      "581/581 [==============================] - 17s 30ms/step - loss: 0.4113 - acc: 0.8176 - val_loss: 1.5292 - val_acc: 0.5385\n",
      "Epoch 19/100\n",
      "581/581 [==============================] - 17s 30ms/step - loss: 0.3655 - acc: 0.8399 - val_loss: 1.7709 - val_acc: 0.4923\n",
      "Epoch 20/100\n",
      "581/581 [==============================] - 19s 32ms/step - loss: 0.3919 - acc: 0.8382 - val_loss: 1.4550 - val_acc: 0.5846\n",
      "Epoch 21/100\n",
      "581/581 [==============================] - 20s 35ms/step - loss: 0.3901 - acc: 0.8434 - val_loss: 1.2460 - val_acc: 0.5385\n",
      "Epoch 22/100\n",
      "581/581 [==============================] - 19s 33ms/step - loss: 0.3553 - acc: 0.8176 - val_loss: 1.4306 - val_acc: 0.5538\n",
      "Epoch 23/100\n",
      "581/581 [==============================] - 19s 32ms/step - loss: 0.2887 - acc: 0.8726 - val_loss: 1.6633 - val_acc: 0.4923\n"
     ]
    }
   ],
   "source": [
    "from keras.callbacks import EarlyStopping\n",
    "early_stopping = EarlyStopping(monitor='val_loss', patience=10) \n",
    "\n",
    "sgd = SGD(lr=0.01, momentum=0.9) \n",
    "\n",
    "model.compile(optimizer=sgd,\n",
    "              loss='categorical_crossentropy',metrics = ['accuracy'] )\n",
    "\n",
    "history = model.fit(X_train, Y_train,epochs=100,\n",
    "          batch_size=20,verbose=1,\n",
    "          validation_split=0.1,\n",
    "          callbacks=[early_stopping])\n",
    "\n",
    "from keras import optimizers\n",
    "\n",
    "Adm = optimizers.Adam(0.0005) \n",
    "\n",
    "model.compile(optimizer=Adm,\n",
    "              loss='categorical_crossentropy',metrics = ['accuracy'] )\n",
    "\n",
    "history1 = model.fit(X_train, Y_train,epochs=100,\n",
    "          batch_size=20,verbose=1,\n",
    "          validation_split=0.1,\n",
    "          callbacks=[early_stopping])"
   ]
  },
  {
   "cell_type": "markdown",
   "metadata": {},
   "source": [
    "> Tracer en fonction du nb d'epoch le risque de cross-entropy ainsi que la précision pour les échantillons d'apprentissage et de validation."
   ]
  },
  {
   "cell_type": "code",
   "execution_count": 52,
   "metadata": {},
   "outputs": [
    {
     "data": {
      "image/png": "[encoded data removed]",
      "text/plain": [
       "<Figure size 432x288 with 1 Axes>"
      ]
     },
     "metadata": {
      "needs_background": "light"
     },
     "output_type": "display_data"
    }
   ],
   "source": [
    "plt.plot(history.history['loss']+history1.history['loss'],label =\"train\")\n",
    "plt.plot(history.history['val_loss']+history1.history['val_loss'],label =\"valid\")\n",
    "plt.xlabel(' epochs')\n",
    "plt.ylabel('Loss')\n",
    "plt.legend();"
   ]
  },
  {
   "cell_type": "code",
   "execution_count": 22,
   "metadata": {},
   "outputs": [
    {
     "data": {
      "text/plain": [
       "<matplotlib.legend.Legend at 0x19d80636e10>"
      ]
     },
     "execution_count": 22,
     "metadata": {},
     "output_type": "execute_result"
    },
    {
     "data": {
      "image/png": "[encoded data removed]",
      "text/plain": [
       "<Figure size 432x288 with 1 Axes>"
      ]
     },
     "metadata": {
      "needs_background": "light"
     },
     "output_type": "display_data"
    }
   ],
   "source": [
    "plt.plot(history.history['acc']+history1.history['acc'],label =\"apprentisage\")\n",
    "plt.plot(history.history['val_acc']+history1.history['val_acc'],label =\"validation\")\n",
    "plt.xlabel('epochs')\n",
    "plt.ylabel('Accuracy')\n",
    "plt.legend()"
   ]
  },
  {
   "cell_type": "markdown",
   "metadata": {},
   "source": [
    "> Donner le risque de cross-entropy ainsi que la précision pour l' échantillon de test."
   ]
  },
  {
   "cell_type": "code",
   "execution_count": 23,
   "metadata": {},
   "outputs": [
    {
     "name": "stdout",
     "output_type": "stream",
     "text": [
      "162/162 [==============================] - 1s 6ms/step\n",
      "Test Loss: 1.6367140817053525\n",
      "Test accuracy: 0.5\n"
     ]
    }
   ],
   "source": [
    "score = model.evaluate(X_test, Y_test)\n",
    "print('Test Loss:', score[0])\n",
    "print('Test accuracy:', score[1])"
   ]
  },
  {
   "cell_type": "markdown",
   "metadata": {},
   "source": [
    "# Matrice de confusion"
   ]
  },
  {
   "cell_type": "markdown",
   "metadata": {},
   "source": [
    "> En utilisant les outils `classification_report()` et `confusion_matrix()` de `sklearn.metrics` pour décrire les performances du réseau de neurones. Vous afficherez notamment la matrice de confusion, comme proposé [ici](http://scikit-learn.org/stable/auto_examples/model_selection/plot_confusion_matrix.html#sphx-glr-auto-examples-model-selection-plot-confusion-matrix-py)."
   ]
  },
  {
   "cell_type": "code",
   "execution_count": 55,
   "metadata": {},
   "outputs": [
    {
     "name": "stdout",
     "output_type": "stream",
     "text": [
      "162/162 [==============================] - 1s 4ms/step\n",
      "[[0.52777778 0.27777778 0.19444444 0.        ]\n",
      " [0.36842105 0.26315789 0.36842105 0.        ]\n",
      " [0.14893617 0.10638298 0.70212766 0.04255319]\n",
      " [0.2195122  0.09756098 0.2195122  0.46341463]]\n",
      "              precision    recall  f1-score   support\n",
      "\n",
      "        cats       0.39      0.53      0.45        36\n",
      "        dogs       0.34      0.26      0.30        38\n",
      "      horses       0.52      0.70      0.60        47\n",
      "      humans       0.90      0.46      0.61        41\n",
      "\n",
      "    accuracy                           0.50       162\n",
      "   macro avg       0.54      0.49      0.49       162\n",
      "weighted avg       0.55      0.50      0.50       162\n",
      "\n"
     ]
    },
    {
     "data": {
      "image/png": "[encoded data removed]",
      "text/plain": [
       "<Figure size 432x288 with 2 Axes>"
      ]
     },
     "metadata": {
      "needs_background": "light"
     },
     "output_type": "display_data"
    }
   ],
   "source": [
    "from sklearn.metrics import confusion_matrix\n",
    "from sklearn.metrics import classification_report\n",
    "Y_pred = model.predict_classes(X_test, batch_size=32, verbose=1)\n",
    "cr= classification_report([Y_test[i].argmax() for i in range(len(Y_test))],Y_pred, target_names=names)\n",
    "\n",
    "cm=confusion_matrix([Y_test[i].argmax() for i in range(len(Y_test))], Y_pred)\n",
    "cm=cm.astype('float') / cm.sum(axis=1).reshape(-1,1)\n",
    "\n",
    "fig, ax = plt.subplots()\n",
    "im = ax.imshow(cm, interpolation='nearest', cmap=plt.cm.Blues)\n",
    "ax.figure.colorbar(im, ax=ax)\n",
    "ax.set(xticks=np.arange(cm.shape[1]),\n",
    "yticks=np.arange(cm.shape[0]),\n",
    "xticklabels=names, yticklabels=names,\n",
    "title=\"çonfusionmatrix_normalised\",\n",
    "ylabel='True label',\n",
    "xlabel='Predicted label')\n",
    "fmt = '.2f' \n",
    "thresh = cm.max() / 2.\n",
    "for i in range(cm.shape[0]):\n",
    "    for j in range(cm.shape[1]):\n",
    "        ax.text(j, i, format(cm[i, j], fmt),\n",
    "            ha=\"center\", va=\"center\",\n",
    "            color=\"white\" if cm[i, j] > thresh else \"black\")\n",
    "fig.tight_layout()\n",
    "print(cm)\n",
    "print(cr)\n"
   ]
  },
  {
   "cell_type": "markdown",
   "metadata": {},
   "source": [
    "# Sauvegarde de votre modele"
   ]
  },
  {
   "cell_type": "code",
   "execution_count": 38,
   "metadata": {},
   "outputs": [],
   "source": [
    "from keras.models import model_from_json\n",
    "from keras.models import load_model"
   ]
  },
  {
   "cell_type": "markdown",
   "metadata": {},
   "source": [
    "En informatique, la sérialisation (de l'anglais américain serialization) est le codage d'une information sous la forme d'une suite d'informations plus petites (dites atomiques) pour, par exemple, sa sauvegarde (persistance) ou son transport. L'activité symétrique, visant à décoder cette suite pour créer une copie conforme de l'information d'origine, s'appelle la désérialisation."
   ]
  },
  {
   "cell_type": "markdown",
   "metadata": {},
   "source": [
    "##### Sauvegarde du modèle (architecture seule) en json\n",
    "\n",
    "JavaScript Object Notation (JSON) est un format de données textuelles dérivé de la notation des objets du langage JavaScript. Il permet de représenter de l’information structurée.\n",
    "\n",
    "Un document JSON a pour fonction de représenter de l'information accompagnée d'étiquettes permettant d'en interpréter les divers éléments, sans aucune restriction sur le nombre de celles-ci.\n",
    "\n",
    "Un document JSON ne comprend que deux types d'éléments structurels :\n",
    "+ Des ensembles de paires \"nom\" (alias \"clé\") / \"valeur\" ;\n",
    "+ Des listes ordonnées de valeurs."
   ]
  },
  {
   "cell_type": "code",
   "execution_count": 39,
   "metadata": {},
   "outputs": [],
   "source": [
    "# format JSON\n",
    "model_json = model.to_json()\n",
    "with open(\"model.json\", \"w\") as json_file:\n",
    "    json_file.write(model_json)\n",
    "   "
   ]
  },
  {
   "cell_type": "code",
   "execution_count": 34,
   "metadata": {},
   "outputs": [
    {
     "name": "stdout",
     "output_type": "stream",
     "text": [
      "{\"class_name\": \"Sequential\", \"config\": {\"name\": \"sequential_3\", \"layers\": [{\"class_name\": \"Conv2D\", \"config\": {\"name\": \"conv2d_4\", \"trainable\": true, \"batch_input_shape\": [null, 128, 128, 1], \"dtype\": \"float32\", \"filters\": 32, \"kernel_size\": [3, 3], \"strides\": [1, 1], \"padding\": \"same\", \"data_format\": \"channels_last\", \"dilation_rate\": [1, 1], \"activation\": \"linear\", \"use_bias\": true, \"kernel_initializer\": {\"class_name\": \"VarianceScaling\", \"config\": {\"scale\": 1.0, \"mode\": \"fan_avg\", \"distribution\": \"uniform\", \"seed\": null}}, \"bias_initializer\": {\"class_name\": \"Zeros\", \"config\": {}}, \"kernel_regularizer\": null, \"bias_regularizer\": null, \"activity_regularizer\": null, \"kernel_constraint\": null, \"bias_constraint\": null}}, {\"class_name\": \"Activation\", \"config\": {\"name\": \"activation_4\", \"trainable\": true, \"dtype\": \"float32\", \"activation\": \"relu\"}}, {\"class_name\": \"Conv2D\", \"config\": {\"name\": \"conv2d_5\", \"trainable\": true, \"dtype\": \"float32\", \"filters\": 32, \"kernel_size\": [3, 3], \"strides\": [1, 1], \"padding\": \"same\", \"data_format\": \"channels_last\", \"dilation_rate\": [1, 1], \"activation\": \"linear\", \"use_bias\": true, \"kernel_initializer\": {\"class_name\": \"VarianceScaling\", \"config\": {\"scale\": 1.0, \"mode\": \"fan_avg\", \"distribution\": \"uniform\", \"seed\": null}}, \"bias_initializer\": {\"class_name\": \"Zeros\", \"config\": {}}, \"kernel_regularizer\": null, \"bias_regularizer\": null, \"activity_regularizer\": null, \"kernel_constraint\": null, \"bias_constraint\": null}}, {\"class_name\": \"Activation\", \"config\": {\"name\": \"activation_5\", \"trainable\": true, \"dtype\": \"float32\", \"activation\": \"relu\"}}, {\"class_name\": \"MaxPooling2D\", \"config\": {\"name\": \"max_pooling2d_1\", \"trainable\": true, \"dtype\": \"float32\", \"pool_size\": [2, 2], \"padding\": \"valid\", \"strides\": [2, 2], \"data_format\": \"channels_last\"}}, {\"class_name\": \"Dropout\", \"config\": {\"name\": \"dropout_1\", \"trainable\": true, \"dtype\": \"float32\", \"rate\": 0.5, \"noise_shape\": null, \"seed\": null}}, {\"class_name\": \"Conv2D\", \"config\": {\"name\": \"conv2d_6\", \"trainable\": true, \"dtype\": \"float32\", \"filters\": 64, \"kernel_size\": [3, 3], \"strides\": [1, 1], \"padding\": \"same\", \"data_format\": \"channels_last\", \"dilation_rate\": [1, 1], \"activation\": \"linear\", \"use_bias\": true, \"kernel_initializer\": {\"class_name\": \"VarianceScaling\", \"config\": {\"scale\": 1.0, \"mode\": \"fan_avg\", \"distribution\": \"uniform\", \"seed\": null}}, \"bias_initializer\": {\"class_name\": \"Zeros\", \"config\": {}}, \"kernel_regularizer\": null, \"bias_regularizer\": null, \"activity_regularizer\": null, \"kernel_constraint\": null, \"bias_constraint\": null}}, {\"class_name\": \"MaxPooling2D\", \"config\": {\"name\": \"max_pooling2d_2\", \"trainable\": true, \"dtype\": \"float32\", \"pool_size\": [2, 2], \"padding\": \"valid\", \"strides\": [2, 2], \"data_format\": \"channels_last\"}}, {\"class_name\": \"Dropout\", \"config\": {\"name\": \"dropout_2\", \"trainable\": true, \"dtype\": \"float32\", \"rate\": 0.5, \"noise_shape\": null, \"seed\": null}}, {\"class_name\": \"Flatten\", \"config\": {\"name\": \"flatten_1\", \"trainable\": true, \"dtype\": \"float32\", \"data_format\": \"channels_last\"}}, {\"class_name\": \"Dense\", \"config\": {\"name\": \"dense_1\", \"trainable\": true, \"dtype\": \"float32\", \"units\": 64, \"activation\": \"linear\", \"use_bias\": true, \"kernel_initializer\": {\"class_name\": \"VarianceScaling\", \"config\": {\"scale\": 1.0, \"mode\": \"fan_avg\", \"distribution\": \"uniform\", \"seed\": null}}, \"bias_initializer\": {\"class_name\": \"Zeros\", \"config\": {}}, \"kernel_regularizer\": null, \"bias_regularizer\": null, \"activity_regularizer\": null, \"kernel_constraint\": null, \"bias_constraint\": null}}, {\"class_name\": \"Activation\", \"config\": {\"name\": \"activation_6\", \"trainable\": true, \"dtype\": \"float32\", \"activation\": \"relu\"}}, {\"class_name\": \"Dropout\", \"config\": {\"name\": \"dropout_3\", \"trainable\": true, \"dtype\": \"float32\", \"rate\": 0.5, \"noise_shape\": null, \"seed\": null}}, {\"class_name\": \"Dense\", \"config\": {\"name\": \"dense_2\", \"trainable\": true, \"dtype\": \"float32\", \"units\": 4, \"activation\": \"linear\", \"use_bias\": true, \"kernel_initializer\": {\"class_name\": \"VarianceScaling\", \"config\": {\"scale\": 1.0, \"mode\": \"fan_avg\", \"distribution\": \"uniform\", \"seed\": null}}, \"bias_initializer\": {\"class_name\": \"Zeros\", \"config\": {}}, \"kernel_regularizer\": null, \"bias_regularizer\": null, \"activity_regularizer\": null, \"kernel_constraint\": null, \"bias_constraint\": null}}, {\"class_name\": \"Activation\", \"config\": {\"name\": \"activation_7\", \"trainable\": true, \"dtype\": \"float32\", \"activation\": \"softmax\"}}]}, \"keras_version\": \"2.2.5\", \"backend\": \"tensorflow\"}\n"
     ]
    }
   ],
   "source": [
    "print(model_json)"
   ]
  },
  {
   "cell_type": "markdown",
   "metadata": {},
   "source": [
    "##### Sauvegarde des poids du modele en HDF5\n",
    "\n",
    "Le Hierarchical Data Format (HDF) est un ensemble de formats de fichiers permettant de sauvegarder et de structurer des fichiers contenant de très grandes quantités de données. Un fichier HDF est un conteneur de fichiers."
   ]
  },
  {
   "cell_type": "code",
   "execution_count": 35,
   "metadata": {},
   "outputs": [],
   "source": [
    "# serialization des poids en format HDF5\n",
    "model.save_weights(\"model.hdf5\")"
   ]
  },
  {
   "cell_type": "markdown",
   "metadata": {},
   "source": [
    "Pour mémoire :"
   ]
  },
  {
   "cell_type": "code",
   "execution_count": 40,
   "metadata": {},
   "outputs": [
    {
     "data": {
      "text/plain": [
       "array([[-0.25403416, -0.2504987 , -0.23143263],\n",
       "       [-0.14835459, -0.12126884, -0.22364259],\n",
       "       [-0.03677136, -0.10693093, -0.2025215 ]], dtype=float32)"
      ]
     },
     "execution_count": 40,
     "metadata": {},
     "output_type": "execute_result"
    }
   ],
   "source": [
    "model.layers[0].get_weights()[0][:,:,0,0]"
   ]
  },
  {
   "cell_type": "markdown",
   "metadata": {},
   "source": [
    "##### Chargement du modèle et intégration des poids enregistrés\n",
    "\n",
    "On charge maintenant les poids prcécedemment entrainés pour ce modèle:"
   ]
  },
  {
   "cell_type": "code",
   "execution_count": 41,
   "metadata": {},
   "outputs": [],
   "source": [
    "json_file = open('model.json', 'r')\n",
    "loaded_model_json = json_file.read()\n",
    "json_file.close()"
   ]
  },
  {
   "cell_type": "code",
   "execution_count": 42,
   "metadata": {},
   "outputs": [],
   "source": [
    "loaded_model = model_from_json(loaded_model_json)"
   ]
  },
  {
   "cell_type": "code",
   "execution_count": 43,
   "metadata": {},
   "outputs": [
    {
     "data": {
      "text/plain": [
       "array([[-0.09693556, -0.06782392,  0.13073419],\n",
       "       [-0.02686558,  0.07402426, -0.13712604],\n",
       "       [ 0.11445595, -0.09400173, -0.13242994]], dtype=float32)"
      ]
     },
     "execution_count": 43,
     "metadata": {},
     "output_type": "execute_result"
    }
   ],
   "source": [
    "loaded_model.layers[0].get_weights()[0][:,:,0,0]"
   ]
  },
  {
   "cell_type": "code",
   "execution_count": 44,
   "metadata": {},
   "outputs": [],
   "source": [
    "loaded_model.load_weights(\"model.hdf5\")"
   ]
  },
  {
   "cell_type": "code",
   "execution_count": 45,
   "metadata": {},
   "outputs": [
    {
     "data": {
      "text/plain": [
       "array([[-0.00047676, -0.11701082,  0.1616046 ],\n",
       "       [ 0.01457135, -0.04943353,  0.09972926],\n",
       "       [-0.11757717, -0.08177207, -0.03403373]], dtype=float32)"
      ]
     },
     "execution_count": 45,
     "metadata": {},
     "output_type": "execute_result"
    }
   ],
   "source": [
    "loaded_model.layers[0].get_weights()[0][:,:,0,0]"
   ]
  },
  {
   "cell_type": "markdown",
   "metadata": {},
   "source": [
    "##### Sauvegarde et chargement du modèle entrainé en HDF5"
   ]
  },
  {
   "cell_type": "code",
   "execution_count": 46,
   "metadata": {},
   "outputs": [],
   "source": [
    "model.save('model.hdf5')"
   ]
  },
  {
   "cell_type": "code",
   "execution_count": 47,
   "metadata": {},
   "outputs": [],
   "source": [
    "loaded_trained_model=load_model('model.hdf5')"
   ]
  },
  {
   "cell_type": "code",
   "execution_count": 48,
   "metadata": {},
   "outputs": [
    {
     "data": {
      "text/plain": [
       "array([[-0.25403416, -0.2504987 , -0.23143263],\n",
       "       [-0.14835459, -0.12126884, -0.22364259],\n",
       "       [-0.03677136, -0.10693093, -0.2025215 ]], dtype=float32)"
      ]
     },
     "execution_count": 48,
     "metadata": {},
     "output_type": "execute_result"
    }
   ],
   "source": [
    "loaded_trained_model.layers[0].get_weights()[0][:,:,0,0]"
   ]
  },
  {
   "cell_type": "markdown",
   "metadata": {},
   "source": [
    "Le modèle est pret à l'emploi :"
   ]
  },
  {
   "cell_type": "code",
   "execution_count": 49,
   "metadata": {},
   "outputs": [
    {
     "name": "stdout",
     "output_type": "stream",
     "text": [
      "162/162 [==============================] - 1s 4ms/step\n"
     ]
    }
   ],
   "source": [
    "score = loaded_trained_model.evaluate(X_test, Y_test)"
   ]
  },
  {
   "cell_type": "code",
   "execution_count": 50,
   "metadata": {},
   "outputs": [
    {
     "name": "stdout",
     "output_type": "stream",
     "text": [
      "[1.6367140817053525, 0.5]\n"
     ]
    }
   ],
   "source": [
    "print(score)"
   ]
  },
  {
   "cell_type": "code",
   "execution_count": null,
   "metadata": {},
   "outputs": [],
   "source": []
  }
 ],
 "metadata": {
  "kernelspec": {
   "display_name": "Python 3",
   "language": "python",
   "name": "python3"
  },
  "language_info": {
   "codemirror_mode": {
    "name": "ipython",
    "version": 3
   },
   "file_extension": ".py",
   "mimetype": "text/x-python",
   "name": "python",
   "nbconvert_exporter": "python",
   "pygments_lexer": "ipython3",
   "version": "3.7.3"
  }
 },
 "nbformat": 4,
 "nbformat_minor": 2
}
